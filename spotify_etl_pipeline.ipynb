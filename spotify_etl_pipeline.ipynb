{
 "cells": [
  {
   "cell_type": "code",
   "execution_count": 3,
   "metadata": {},
   "outputs": [
    {
     "name": "stdout",
     "output_type": "stream",
     "text": [
      "Collecting spotipy\n",
      "  Downloading spotipy-2.23.0-py3-none-any.whl.metadata (3.3 kB)\n",
      "Collecting redis>=3.5.3 (from spotipy)\n",
      "  Downloading redis-5.0.3-py3-none-any.whl.metadata (9.3 kB)\n",
      "Requirement already satisfied: requests>=2.25.0 in /usr/local/lib/python3.10/site-packages (from spotipy) (2.28.2)\n",
      "Requirement already satisfied: six>=1.15.0 in /usr/local/lib/python3.10/site-packages (from spotipy) (1.16.0)\n",
      "Requirement already satisfied: urllib3>=1.26.0 in /usr/local/lib/python3.10/site-packages (from spotipy) (1.26.15)\n",
      "Requirement already satisfied: async-timeout>=4.0.3 in /usr/local/lib/python3.10/site-packages (from redis>=3.5.3->spotipy) (4.0.3)\n",
      "Requirement already satisfied: charset-normalizer<4,>=2 in /usr/local/lib/python3.10/site-packages (from requests>=2.25.0->spotipy) (3.1.0)\n",
      "Requirement already satisfied: idna<4,>=2.5 in /usr/local/lib/python3.10/site-packages (from requests>=2.25.0->spotipy) (3.4)\n",
      "Requirement already satisfied: certifi>=2017.4.17 in /usr/local/lib/python3.10/site-packages (from requests>=2.25.0->spotipy) (2022.12.7)\n",
      "Downloading spotipy-2.23.0-py3-none-any.whl (29 kB)\n",
      "Downloading redis-5.0.3-py3-none-any.whl (251 kB)\n",
      "\u001b[2K   \u001b[90m━━━━━━━━━━━━━━━━━━━━━━━━━━━━━━━━━━━━━━━━\u001b[0m \u001b[32m251.8/251.8 kB\u001b[0m \u001b[31m6.7 MB/s\u001b[0m eta \u001b[36m0:00:00\u001b[0m\n",
      "\u001b[?25hInstalling collected packages: redis, spotipy\n",
      "Successfully installed redis-5.0.3 spotipy-2.23.0\n",
      "\n",
      "\u001b[1m[\u001b[0m\u001b[34;49mnotice\u001b[0m\u001b[1;39;49m]\u001b[0m\u001b[39;49m A new release of pip is available: \u001b[0m\u001b[31;49m23.3.1\u001b[0m\u001b[39;49m -> \u001b[0m\u001b[32;49m24.0\u001b[0m\n",
      "\u001b[1m[\u001b[0m\u001b[34;49mnotice\u001b[0m\u001b[1;39;49m]\u001b[0m\u001b[39;49m To update, run: \u001b[0m\u001b[32;49mpython3.10 -m pip install --upgrade pip\u001b[0m\n"
     ]
    }
   ],
   "source": [
    "!pip install spotipy\n"
   ]
  },
  {
   "cell_type": "code",
   "execution_count": 4,
   "metadata": {},
   "outputs": [],
   "source": [
    "import spotipy\n",
    "from spotipy.oauth2 import SpotifyClientCredentials"
   ]
  },
  {
   "cell_type": "code",
   "execution_count": 5,
   "metadata": {},
   "outputs": [],
   "source": [
    "client_credentials_manager = SpotifyClientCredentials(client_id=\"877b97ddba2e4752bb6771977312222a\",client_secret=\"9e1c92f3c154432c9a1ced981574087b\")"
   ]
  },
  {
   "cell_type": "code",
   "execution_count": 6,
   "metadata": {},
   "outputs": [],
   "source": [
    "sp = spotipy.Spotify(client_credentials_manager = client_credentials_manager)"
   ]
  },
  {
   "cell_type": "code",
   "execution_count": 7,
   "metadata": {},
   "outputs": [],
   "source": [
    "playlist_link = \"https://open.spotify.com/playlist/4hOKQuZbraPDIfaGbM3lKI\""
   ]
  },
  {
   "cell_type": "code",
   "execution_count": 10,
   "metadata": {},
   "outputs": [],
   "source": [
    "playlist_URI = playlist_link.split(\"/\")[-1]"
   ]
  },
  {
   "cell_type": "code",
   "execution_count": 12,
   "metadata": {},
   "outputs": [],
   "source": [
    "data = sp.playlist_tracks(playlist_URI)"
   ]
  },
  {
   "cell_type": "code",
   "execution_count": 15,
   "metadata": {},
   "outputs": [
    {
     "data": {
      "text/plain": [
       "100"
      ]
     },
     "execution_count": 15,
     "metadata": {},
     "output_type": "execute_result"
    }
   ],
   "source": [
    "len(data['items'])"
   ]
  },
  {
   "cell_type": "code",
   "execution_count": 17,
   "metadata": {},
   "outputs": [
    {
     "data": {
      "text/plain": [
       "{'added_at': '2017-05-17T06:02:52Z',\n",
       " 'added_by': {'external_urls': {'spotify': 'https://open.spotify.com/user/spotify'},\n",
       "  'href': 'https://api.spotify.com/v1/users/spotify',\n",
       "  'id': 'spotify',\n",
       "  'type': 'user',\n",
       "  'uri': 'spotify:user:spotify'},\n",
       " 'is_local': False,\n",
       " 'primary_color': None,\n",
       " 'track': {'album': {'album_type': 'single',\n",
       "   'artists': [{'external_urls': {'spotify': 'https://open.spotify.com/artist/4V8Sr092TqfHkfAA5fXXqG'},\n",
       "     'href': 'https://api.spotify.com/v1/artists/4V8Sr092TqfHkfAA5fXXqG',\n",
       "     'id': '4V8Sr092TqfHkfAA5fXXqG',\n",
       "     'name': 'Luis Fonsi',\n",
       "     'type': 'artist',\n",
       "     'uri': 'spotify:artist:4V8Sr092TqfHkfAA5fXXqG'},\n",
       "    {'external_urls': {'spotify': 'https://open.spotify.com/artist/4VMYDCV2IEDYJArk749S6m'},\n",
       "     'href': 'https://api.spotify.com/v1/artists/4VMYDCV2IEDYJArk749S6m',\n",
       "     'id': '4VMYDCV2IEDYJArk749S6m',\n",
       "     'name': 'Daddy Yankee',\n",
       "     'type': 'artist',\n",
       "     'uri': 'spotify:artist:4VMYDCV2IEDYJArk749S6m'}],\n",
       "   'available_markets': [],\n",
       "   'external_urls': {'spotify': 'https://open.spotify.com/album/3smvpv7CdrhVcGYaNDLOqn'},\n",
       "   'href': 'https://api.spotify.com/v1/albums/3smvpv7CdrhVcGYaNDLOqn',\n",
       "   'id': '3smvpv7CdrhVcGYaNDLOqn',\n",
       "   'images': [{'height': 640,\n",
       "     'url': 'https://i.scdn.co/image/ab67616d0000b273d8559d0280ffe2a2af6dacdf',\n",
       "     'width': 640},\n",
       "    {'height': 300,\n",
       "     'url': 'https://i.scdn.co/image/ab67616d00001e02d8559d0280ffe2a2af6dacdf',\n",
       "     'width': 300},\n",
       "    {'height': 64,\n",
       "     'url': 'https://i.scdn.co/image/ab67616d00004851d8559d0280ffe2a2af6dacdf',\n",
       "     'width': 64}],\n",
       "   'name': 'Despacito Feat. Justin Bieber (Remix)',\n",
       "   'release_date': '2017-04-17',\n",
       "   'release_date_precision': 'day',\n",
       "   'total_tracks': 1,\n",
       "   'type': 'album',\n",
       "   'uri': 'spotify:album:3smvpv7CdrhVcGYaNDLOqn'},\n",
       "  'artists': [{'external_urls': {'spotify': 'https://open.spotify.com/artist/4V8Sr092TqfHkfAA5fXXqG'},\n",
       "    'href': 'https://api.spotify.com/v1/artists/4V8Sr092TqfHkfAA5fXXqG',\n",
       "    'id': '4V8Sr092TqfHkfAA5fXXqG',\n",
       "    'name': 'Luis Fonsi',\n",
       "    'type': 'artist',\n",
       "    'uri': 'spotify:artist:4V8Sr092TqfHkfAA5fXXqG'},\n",
       "   {'external_urls': {'spotify': 'https://open.spotify.com/artist/4VMYDCV2IEDYJArk749S6m'},\n",
       "    'href': 'https://api.spotify.com/v1/artists/4VMYDCV2IEDYJArk749S6m',\n",
       "    'id': '4VMYDCV2IEDYJArk749S6m',\n",
       "    'name': 'Daddy Yankee',\n",
       "    'type': 'artist',\n",
       "    'uri': 'spotify:artist:4VMYDCV2IEDYJArk749S6m'},\n",
       "   {'external_urls': {'spotify': 'https://open.spotify.com/artist/1uNFoZAHBGtllmzznpCI3s'},\n",
       "    'href': 'https://api.spotify.com/v1/artists/1uNFoZAHBGtllmzznpCI3s',\n",
       "    'id': '1uNFoZAHBGtllmzznpCI3s',\n",
       "    'name': 'Justin Bieber',\n",
       "    'type': 'artist',\n",
       "    'uri': 'spotify:artist:1uNFoZAHBGtllmzznpCI3s'}],\n",
       "  'available_markets': [],\n",
       "  'disc_number': 1,\n",
       "  'duration_ms': 228826,\n",
       "  'episode': False,\n",
       "  'explicit': False,\n",
       "  'external_ids': {'isrc': 'USUM71703825'},\n",
       "  'external_urls': {'spotify': 'https://open.spotify.com/track/5CtI0qwDJkDQGwXD1H1cLb'},\n",
       "  'href': 'https://api.spotify.com/v1/tracks/5CtI0qwDJkDQGwXD1H1cLb',\n",
       "  'id': '5CtI0qwDJkDQGwXD1H1cLb',\n",
       "  'is_local': False,\n",
       "  'name': 'Despacito - Remix',\n",
       "  'popularity': 0,\n",
       "  'preview_url': None,\n",
       "  'track': True,\n",
       "  'track_number': 1,\n",
       "  'type': 'track',\n",
       "  'uri': 'spotify:track:5CtI0qwDJkDQGwXD1H1cLb'},\n",
       " 'video_thumbnail': {'url': None}}"
      ]
     },
     "execution_count": 17,
     "metadata": {},
     "output_type": "execute_result"
    }
   ],
   "source": [
    "data['items'][0]"
   ]
  },
  {
   "cell_type": "code",
   "execution_count": 18,
   "metadata": {},
   "outputs": [
    {
     "data": {
      "text/plain": [
       "'3smvpv7CdrhVcGYaNDLOqn'"
      ]
     },
     "execution_count": 18,
     "metadata": {},
     "output_type": "execute_result"
    }
   ],
   "source": [
    "data['items'][0]['track']['album']['id']"
   ]
  },
  {
   "cell_type": "code",
   "execution_count": 20,
   "metadata": {},
   "outputs": [
    {
     "data": {
      "text/plain": [
       "'Despacito Feat. Justin Bieber (Remix)'"
      ]
     },
     "execution_count": 20,
     "metadata": {},
     "output_type": "execute_result"
    }
   ],
   "source": [
    "data['items'][0]['track']['album']['name']"
   ]
  },
  {
   "cell_type": "code",
   "execution_count": 21,
   "metadata": {},
   "outputs": [
    {
     "data": {
      "text/plain": [
       "'2017-04-17'"
      ]
     },
     "execution_count": 21,
     "metadata": {},
     "output_type": "execute_result"
    }
   ],
   "source": [
    "data['items'][0]['track']['album']['release_date']"
   ]
  },
  {
   "cell_type": "code",
   "execution_count": 22,
   "metadata": {},
   "outputs": [
    {
     "data": {
      "text/plain": [
       "1"
      ]
     },
     "execution_count": 22,
     "metadata": {},
     "output_type": "execute_result"
    }
   ],
   "source": [
    "data['items'][0]['track']['album']['total_tracks']"
   ]
  },
  {
   "cell_type": "code",
   "execution_count": 24,
   "metadata": {},
   "outputs": [
    {
     "data": {
      "text/plain": [
       "'https://open.spotify.com/album/3smvpv7CdrhVcGYaNDLOqn'"
      ]
     },
     "execution_count": 24,
     "metadata": {},
     "output_type": "execute_result"
    }
   ],
   "source": [
    "data['items'][0]['track']['album']['external_urls']['spotify']"
   ]
  },
  {
   "cell_type": "code",
   "execution_count": 37,
   "metadata": {},
   "outputs": [],
   "source": [
    "album_list=[]\n",
    "for row in data['items']:\n",
    "    album_id = row['track']['album']['id']\n",
    "    album_name = row['track']['album']['name']\n",
    "    album_release_date = row['track']['album']['release_date']\n",
    "    album_total_tracks = row['track']['album']['total_tracks']\n",
    "    album_url = row['track']['album']['external_urls']['spotify']\n",
    "    album_element = {'album_id':album_id,'name':album_name,'release_date':album_release_date, 'total_tracks':album_total_tracks, 'url':album_url}\n",
    "    album_list.append(album_element)\n"
   ]
  },
  {
   "cell_type": "code",
   "execution_count": 36,
   "metadata": {},
   "outputs": [
    {
     "name": "stdout",
     "output_type": "stream",
     "text": [
      "{'album_id': '5PK9tQ7Ou1AvIww8zRn3SL', 'name': 'Whippin (feat. Felix Snow)', 'release_date': '2017-04-12', 'total_tracks': 1, 'url': 'https://open.spotify.com/album/5PK9tQ7Ou1AvIww8zRn3SL'}\n"
     ]
    }
   ],
   "source": [
    "print(album_element)"
   ]
  },
  {
   "cell_type": "code",
   "execution_count": 38,
   "metadata": {},
   "outputs": [
    {
     "name": "stdout",
     "output_type": "stream",
     "text": [
      "[{'album_id': '3smvpv7CdrhVcGYaNDLOqn', 'name': 'Despacito Feat. Justin Bieber (Remix)', 'release_date': '2017-04-17', 'total_tracks': 1, 'url': 'https://open.spotify.com/album/3smvpv7CdrhVcGYaNDLOqn'}, {'album_id': '7mRliFLzSnVPzjO0sSy3ar', 'name': \"I'm the One\", 'release_date': '2017-04-27', 'total_tracks': 1, 'url': 'https://open.spotify.com/album/7mRliFLzSnVPzjO0sSy3ar'}, {'album_id': '3T4tUhGYeRNVUGevb0wThu', 'name': '÷ (Deluxe)', 'release_date': '2017-03-03', 'total_tracks': 16, 'url': 'https://open.spotify.com/album/3T4tUhGYeRNVUGevb0wThu'}, {'album_id': '4eLPsYPBmXABThSJ821sqY', 'name': 'DAMN.', 'release_date': '2017-04-14', 'total_tracks': 14, 'url': 'https://open.spotify.com/album/4eLPsYPBmXABThSJ821sqY'}, {'album_id': '4YtTX4GPvBvewbJvBfXCS2', 'name': 'FUTURE', 'release_date': '2017-08-04', 'total_tracks': 17, 'url': 'https://open.spotify.com/album/4YtTX4GPvBvewbJvBfXCS2'}, {'album_id': '4JPguzRps3kuWDD5GS6oXr', 'name': 'Memories...Do Not Open', 'release_date': '2017-04-07', 'total_tracks': 12, 'url': 'https://open.spotify.com/album/4JPguzRps3kuWDD5GS6oXr'}, {'album_id': '0VMGOBhLrC5Q2bfZnrocVN', 'name': 'Stay', 'release_date': '2017-02-23', 'total_tracks': 1, 'url': 'https://open.spotify.com/album/0VMGOBhLrC5Q2bfZnrocVN'}, {'album_id': '0IUCAsckpNyV4wHKIHQawC', 'name': \"It Ain't Me (with Selena Gomez)\", 'release_date': '2017-02-16', 'total_tracks': 1, 'url': 'https://open.spotify.com/album/0IUCAsckpNyV4wHKIHQawC'}, {'album_id': '2e5CxfyEwBW115beiwh7Mc', 'name': 'Swalla (feat. Nicki Minaj & Ty Dolla $ign)', 'release_date': '2017-02-23', 'total_tracks': 1, 'url': 'https://open.spotify.com/album/2e5CxfyEwBW115beiwh7Mc'}, {'album_id': '7CUczABBlsbd5fqng9mjxo', 'name': 'Malibu', 'release_date': '2017-05-11', 'total_tracks': 1, 'url': 'https://open.spotify.com/album/7CUczABBlsbd5fqng9mjxo'}, {'album_id': '5yYFrOnqG8cEciKnsxHz2r', 'name': 'Illuminate (Deluxe)', 'release_date': '2017-04-20', 'total_tracks': 16, 'url': 'https://open.spotify.com/album/5yYFrOnqG8cEciKnsxHz2r'}, {'album_id': '4PgleR09JVnm3zY1fW3XBA', 'name': '24K Magic', 'release_date': '2016-11-17', 'total_tracks': 9, 'url': 'https://open.spotify.com/album/4PgleR09JVnm3zY1fW3XBA'}, {'album_id': '4b13SJlne61y53KSEwuQtD', 'name': 'Symphony (feat. Zara Larsson)', 'release_date': '2017-03-16', 'total_tracks': 1, 'url': 'https://open.spotify.com/album/4b13SJlne61y53KSEwuQtD'}, {'album_id': '1HV4uCbhCicfl07dm2WvU0', 'name': 'Despacito (Featuring Daddy Yankee)', 'release_date': '2017-01-13', 'total_tracks': 1, 'url': 'https://open.spotify.com/album/1HV4uCbhCicfl07dm2WvU0'}, {'album_id': '0t0NkQulrNkxw2oUZZHboA', 'name': 'Attention', 'release_date': '2017-04-20', 'total_tracks': 1, 'url': 'https://open.spotify.com/album/0t0NkQulrNkxw2oUZZHboA'}, {'album_id': '7Ix0FS4f1lK42C3rix5rHg', 'name': 'More Life', 'release_date': '2017-03-18', 'total_tracks': 22, 'url': 'https://open.spotify.com/album/7Ix0FS4f1lK42C3rix5rHg'}, {'album_id': '1FZKIm3JVDCxTchXDo5jOV', 'name': 'Harry Styles', 'release_date': '2017-05-12', 'total_tracks': 10, 'url': 'https://open.spotify.com/album/1FZKIm3JVDCxTchXDo5jOV'}, {'album_id': '4CZVGlURM8vncG4ftZULTS', 'name': 'XO TOUR Llif3', 'release_date': '2017-03-24', 'total_tracks': 1, 'url': 'https://open.spotify.com/album/4CZVGlURM8vncG4ftZULTS'}, {'album_id': '6wu7tiTr8zchRG7PWwTOK1', 'name': 'First Time', 'release_date': '2017-04-28', 'total_tracks': 1, 'url': 'https://open.spotify.com/album/6wu7tiTr8zchRG7PWwTOK1'}, {'album_id': '6pFZVwBPXj3m4dyaKcnVev', 'name': 'Felices los 4', 'release_date': '2017-04-21', 'total_tracks': 1, 'url': 'https://open.spotify.com/album/6pFZVwBPXj3m4dyaKcnVev'}, {'album_id': '1udLKdsDr7GRmJU6Cxyt7j', 'name': 'Unforgettable', 'release_date': '2017', 'total_tracks': 1, 'url': 'https://open.spotify.com/album/1udLKdsDr7GRmJU6Cxyt7j'}, {'album_id': '4eLPsYPBmXABThSJ821sqY', 'name': 'DAMN.', 'release_date': '2017-04-14', 'total_tracks': 14, 'url': 'https://open.spotify.com/album/4eLPsYPBmXABThSJ821sqY'}, {'album_id': '1FulpD9JiAPbqP2F31pmUP', 'name': 'Issues', 'release_date': '2017-01-13', 'total_tracks': 1, 'url': 'https://open.spotify.com/album/1FulpD9JiAPbqP2F31pmUP'}, {'album_id': '2v9rQe4F8fVSh5v8bAq0jF', 'name': 'Scared to Be Lonely', 'release_date': '2017-01-27', 'total_tracks': 1, 'url': 'https://open.spotify.com/album/2v9rQe4F8fVSh5v8bAq0jF'}, {'album_id': '3T4tUhGYeRNVUGevb0wThu', 'name': '÷ (Deluxe)', 'release_date': '2017-03-03', 'total_tracks': 16, 'url': 'https://open.spotify.com/album/3T4tUhGYeRNVUGevb0wThu'}, {'album_id': '1UIlzhqJLiA3f6OVw7QKn6', 'name': 'Slide (feat. Frank Ocean & Migos)', 'release_date': '2017-02-24', 'total_tracks': 1, 'url': 'https://open.spotify.com/album/1UIlzhqJLiA3f6OVw7QKn6'}, {'album_id': '5s0rmjP8XOPhP6HhqOhuyC', 'name': 'Stoney (Deluxe)', 'release_date': '2016-12-09', 'total_tracks': 18, 'url': 'https://open.spotify.com/album/5s0rmjP8XOPhP6HhqOhuyC'}, {'album_id': '6301sWkK7hVwcrhcEwKPcH', 'name': 'No Promises (feat. Demi Lovato)', 'release_date': '2017-03-31', 'total_tracks': 1, 'url': 'https://open.spotify.com/album/6301sWkK7hVwcrhcEwKPcH'}, {'album_id': '1HiN2YXZcc3EjmVZ4WjfBk', 'name': 'Everybody', 'release_date': '2017-05-05', 'total_tracks': 13, 'url': 'https://open.spotify.com/album/1HiN2YXZcc3EjmVZ4WjfBk'}, {'album_id': '0VvK3TRKSJTk2FR4bzCV1w', 'name': 'Thunder', 'release_date': '2017-04-27', 'total_tracks': 1, 'url': 'https://open.spotify.com/album/0VvK3TRKSJTk2FR4bzCV1w'}, {'album_id': '2Ib7wM5qXKXDzZFhzNQ7TG', 'name': 'SUBEME LA RADIO (feat. Descemer Bueno & Zion & Lennox)', 'release_date': '2017-02-24', 'total_tracks': 1, 'url': 'https://open.spotify.com/album/2Ib7wM5qXKXDzZFhzNQ7TG'}, {'album_id': '6jO7hs4GsF6924w10xQTyA', 'name': 'Pretty Girl (Cheat Codes X CADE Remix)', 'release_date': '2017-03-03', 'total_tracks': 1, 'url': 'https://open.spotify.com/album/6jO7hs4GsF6924w10xQTyA'}, {'album_id': '6qIOlt2SVkfs9NynvpaQ1j', 'name': 'Me Rehúso', 'release_date': '2016-09-16', 'total_tracks': 1, 'url': 'https://open.spotify.com/album/6qIOlt2SVkfs9NynvpaQ1j'}, {'album_id': '7Bh5oQckPzHqO7GHVGY5LE', 'name': 'The Cure', 'release_date': '2017-04-16', 'total_tracks': 1, 'url': 'https://open.spotify.com/album/7Bh5oQckPzHqO7GHVGY5LE'}, {'album_id': '15qLmAABocTCRBSbWWqL7K', 'name': 'iSpy (feat. Lil Yachty)', 'release_date': '2016-12-02', 'total_tracks': 1, 'url': 'https://open.spotify.com/album/15qLmAABocTCRBSbWWqL7K'}, {'album_id': '5PO2cqkBjAUOSHdxSDJOL4', 'name': 'Good Life (with G-Eazy & Kehlani)', 'release_date': '2017-03-16', 'total_tracks': 1, 'url': 'https://open.spotify.com/album/5PO2cqkBjAUOSHdxSDJOL4'}, {'album_id': '2wSBV9N0cNgaDc5X3ljnVo', 'name': 'Now Or Never', 'release_date': '2017-04-04', 'total_tracks': 1, 'url': 'https://open.spotify.com/album/2wSBV9N0cNgaDc5X3ljnVo'}, {'album_id': '3KzCJaaRVza9FnSsqtAFeO', 'name': 'Believer', 'release_date': '2017-01-31', 'total_tracks': 1, 'url': 'https://open.spotify.com/album/3KzCJaaRVza9FnSsqtAFeO'}, {'album_id': '6kf46HbnYCZzP6rjvQHYzg', 'name': 'American Teen', 'release_date': '2017-04-27', 'total_tracks': 15, 'url': 'https://open.spotify.com/album/6kf46HbnYCZzP6rjvQHYzg'}, {'album_id': '3meZFplbMmji648oWUNEfQ', 'name': 'Rockabye (feat. Sean Paul & Anne-Marie)', 'release_date': '2016-10-21', 'total_tracks': 1, 'url': 'https://open.spotify.com/album/3meZFplbMmji648oWUNEfQ'}, {'album_id': '4JPguzRps3kuWDD5GS6oXr', 'name': 'Memories...Do Not Open', 'release_date': '2017-04-07', 'total_tracks': 12, 'url': 'https://open.spotify.com/album/4JPguzRps3kuWDD5GS6oXr'}, {'album_id': '4pZbAcipxqdFcwjiFkuwes', 'name': 'Call On Me (Remixes)', 'release_date': '2016-10-14', 'total_tracks': 8, 'url': 'https://open.spotify.com/album/4pZbAcipxqdFcwjiFkuwes'}, {'album_id': '6nt2urfBROkUQWnzpSOohu', 'name': 'Rollin (feat. Future & Khalid)', 'release_date': '2017-05-12', 'total_tracks': 1, 'url': 'https://open.spotify.com/album/6nt2urfBROkUQWnzpSOohu'}, {'album_id': '5MxXY7DbFMUiHFTPUabgJJ', 'name': 'I Don’t Wanna Live Forever (Fifty Shades Darker)', 'release_date': '2016-12-09', 'total_tracks': 1, 'url': 'https://open.spotify.com/album/5MxXY7DbFMUiHFTPUabgJJ'}, {'album_id': '7oYKSApfrPWuKk8aH6rH7t', 'name': 'Cold', 'release_date': '2017-02-14', 'total_tracks': 1, 'url': 'https://open.spotify.com/album/7oYKSApfrPWuKk8aH6rH7t'}, {'album_id': '4eLPsYPBmXABThSJ821sqY', 'name': 'DAMN.', 'release_date': '2017-04-14', 'total_tracks': 14, 'url': 'https://open.spotify.com/album/4eLPsYPBmXABThSJ821sqY'}, {'album_id': '4AdZV63ycxFLF6Hcol0QnB', 'name': 'Starboy', 'release_date': '2016-11-24', 'total_tracks': 18, 'url': 'https://open.spotify.com/album/4AdZV63ycxFLF6Hcol0QnB'}, {'album_id': '2dBgWXp41imu2zBNv9oFxZ', 'name': 'Fénix', 'release_date': '2017-01-20', 'total_tracks': 26, 'url': 'https://open.spotify.com/album/2dBgWXp41imu2zBNv9oFxZ'}, {'album_id': '5pnuFhf3CzEEscRgST09H5', 'name': \"You Don't Know Me\", 'release_date': '2016-12-09', 'total_tracks': 1, 'url': 'https://open.spotify.com/album/5pnuFhf3CzEEscRgST09H5'}, {'album_id': '7BJ02LuWRn3RH7yDHZAJr2', 'name': 'Slow Hands', 'release_date': '2017-05-04', 'total_tracks': 1, 'url': 'https://open.spotify.com/album/7BJ02LuWRn3RH7yDHZAJr2'}, {'album_id': '3BcNHuKlAm57APDcwh7LJq', 'name': 'Solo Dance', 'release_date': '2016-11-04', 'total_tracks': 1, 'url': 'https://open.spotify.com/album/3BcNHuKlAm57APDcwh7LJq'}, {'album_id': '0PUhdd2AlyEACcz4f0RiiK', 'name': 'Bon Appétit', 'release_date': '2017-04-28', 'total_tracks': 1, 'url': 'https://open.spotify.com/album/0PUhdd2AlyEACcz4f0RiiK'}, {'album_id': '5uWJP1QRmJemAFD3JH2LOG', 'name': 'Escápate Conmigo (feat. Ozuna)', 'release_date': '2017-03-31', 'total_tracks': 1, 'url': 'https://open.spotify.com/album/5uWJP1QRmJemAFD3JH2LOG'}, {'album_id': '7oiJYvEJHsmYtrgviAVIBD', 'name': 'Back from the Edge', 'release_date': '2016-10-28', 'total_tracks': 17, 'url': 'https://open.spotify.com/album/7oiJYvEJHsmYtrgviAVIBD'}, {'album_id': '1lXY618HWkwYKJWBRYR4MK', 'name': 'More Life', 'release_date': '2017-03-18', 'total_tracks': 22, 'url': 'https://open.spotify.com/album/1lXY618HWkwYKJWBRYR4MK'}, {'album_id': '4eLPsYPBmXABThSJ821sqY', 'name': 'DAMN.', 'release_date': '2017-04-14', 'total_tracks': 14, 'url': 'https://open.spotify.com/album/4eLPsYPBmXABThSJ821sqY'}, {'album_id': '6UzYYTKQHXXNH67rawar3X', 'name': 'Ahora Dice', 'release_date': '2017-03-17', 'total_tracks': 1, 'url': 'https://open.spotify.com/album/6UzYYTKQHXXNH67rawar3X'}, {'album_id': '1SUC3BzNqa5Kna2bZAsAK8', 'name': 'Strange Trails', 'release_date': '2015-04-06', 'total_tracks': 14, 'url': 'https://open.spotify.com/album/1SUC3BzNqa5Kna2bZAsAK8'}, {'album_id': '12R3FRl2DbibkbOuXwXvxp', 'name': 'Tuesday (feat. Danelle Sandoval)', 'release_date': '2016-06-17', 'total_tracks': 1, 'url': 'https://open.spotify.com/album/12R3FRl2DbibkbOuXwXvxp'}, {'album_id': '620wwdsvJGaC4uh8Fj416Y', 'name': 'Hey Ma (with Pitbull & J Balvin feat. Camila Cabello)', 'release_date': '2017-03-09', 'total_tracks': 1, 'url': 'https://open.spotify.com/album/620wwdsvJGaC4uh8Fj416Y'}, {'album_id': '1FZKIm3JVDCxTchXDo5jOV', 'name': 'Harry Styles', 'release_date': '2017-05-12', 'total_tracks': 10, 'url': 'https://open.spotify.com/album/1FZKIm3JVDCxTchXDo5jOV'}, {'album_id': '0rSLgV8p5FzfnqlEk4GzxE', 'name': 'Closer', 'release_date': '2016-07-29', 'total_tracks': 1, 'url': 'https://open.spotify.com/album/0rSLgV8p5FzfnqlEk4GzxE'}, {'album_id': '3T4tUhGYeRNVUGevb0wThu', 'name': '÷ (Deluxe)', 'release_date': '2017-03-03', 'total_tracks': 16, 'url': 'https://open.spotify.com/album/3T4tUhGYeRNVUGevb0wThu'}, {'album_id': '5mG8oNkNKM2my7t9ywra96', 'name': 'Painting Pictures', 'release_date': '2017-03-31', 'total_tracks': 18, 'url': 'https://open.spotify.com/album/5mG8oNkNKM2my7t9ywra96'}, {'album_id': '2kGUeTGnkLOYlinKRJe47G', 'name': 'Still Got Time (feat. PARTYNEXTDOOR)', 'release_date': '2017-03-23', 'total_tracks': 1, 'url': 'https://open.spotify.com/album/2kGUeTGnkLOYlinKRJe47G'}, {'album_id': '4eLPsYPBmXABThSJ821sqY', 'name': 'DAMN.', 'release_date': '2017-04-14', 'total_tracks': 14, 'url': 'https://open.spotify.com/album/4eLPsYPBmXABThSJ821sqY'}, {'album_id': '4D6OyZ4Q57vH7gul8PVzTv', 'name': 'Most Girls', 'release_date': '2017-04-28', 'total_tracks': 1, 'url': 'https://open.spotify.com/album/4D6OyZ4Q57vH7gul8PVzTv'}, {'album_id': '3EwBqZP15qaDl3B6DuWXZ7', 'name': 'Chantaje', 'release_date': '2016', 'total_tracks': 1, 'url': 'https://open.spotify.com/album/3EwBqZP15qaDl3B6DuWXZ7'}, {'album_id': '42WVQWuf1teDysXiOupIZt', 'name': 'Birds In The Trap Sing McKnight', 'release_date': '2016-09-16', 'total_tracks': 14, 'url': 'https://open.spotify.com/album/42WVQWuf1teDysXiOupIZt'}, {'album_id': '09fggMHib4YkOtwQNXEBII', 'name': 'Starboy', 'release_date': '2016-11-25', 'total_tracks': 18, 'url': 'https://open.spotify.com/album/09fggMHib4YkOtwQNXEBII'}, {'album_id': '1P8NvRvykmDrKyfglMerMv', 'name': 'HNDRXX', 'release_date': '2017-08-04', 'total_tracks': 17, 'url': 'https://open.spotify.com/album/1P8NvRvykmDrKyfglMerMv'}, {'album_id': '2LYwooMTH1iJeBvWyXXWUf', 'name': 'Energía', 'release_date': '2016-06-24', 'total_tracks': 15, 'url': 'https://open.spotify.com/album/2LYwooMTH1iJeBvWyXXWUf'}, {'album_id': '3T4tUhGYeRNVUGevb0wThu', 'name': '÷ (Deluxe)', 'release_date': '2017-03-03', 'total_tracks': 16, 'url': 'https://open.spotify.com/album/3T4tUhGYeRNVUGevb0wThu'}, {'album_id': '2AvupjUeMnSffKEV05x222', 'name': 'Culture', 'release_date': '2017-04-07', 'total_tracks': 13, 'url': 'https://open.spotify.com/album/2AvupjUeMnSffKEV05x222'}, {'album_id': '3hARKC8cinq3mZLLAEaBh9', 'name': 'Views', 'release_date': '2016-05-06', 'total_tracks': 20, 'url': 'https://open.spotify.com/album/3hARKC8cinq3mZLLAEaBh9'}, {'album_id': '2N7kidh1wA9EoLdf16QWrz', 'name': 'Body Like A Back Road', 'release_date': '2017-02-01', 'total_tracks': 1, 'url': 'https://open.spotify.com/album/2N7kidh1wA9EoLdf16QWrz'}, {'album_id': '4PtHrEv5SyIVsdbMKi6Vkg', 'name': 'September Song', 'release_date': '2016-09-16', 'total_tracks': 1, 'url': 'https://open.spotify.com/album/4PtHrEv5SyIVsdbMKi6Vkg'}, {'album_id': '3spLScHh3MUrplyauEMtWI', 'name': 'Hey DJ', 'release_date': '2017-04-07', 'total_tracks': 1, 'url': 'https://open.spotify.com/album/3spLScHh3MUrplyauEMtWI'}, {'album_id': '1VIX8YDyQOaUhWpHhP6Ttu', 'name': 'Chained To The Rhythm', 'release_date': '2017-02-10', 'total_tracks': 1, 'url': 'https://open.spotify.com/album/1VIX8YDyQOaUhWpHhP6Ttu'}, {'album_id': '1lXY618HWkwYKJWBRYR4MK', 'name': 'More Life', 'release_date': '2017-03-18', 'total_tracks': 22, 'url': 'https://open.spotify.com/album/1lXY618HWkwYKJWBRYR4MK'}, {'album_id': '4JPguzRps3kuWDD5GS6oXr', 'name': 'Memories...Do Not Open', 'release_date': '2017-04-07', 'total_tracks': 12, 'url': 'https://open.spotify.com/album/4JPguzRps3kuWDD5GS6oXr'}, {'album_id': '0XAIjjN5qxViVS0Y5fYkar', 'name': 'I Decided.', 'release_date': '2017-02-03', 'total_tracks': 14, 'url': 'https://open.spotify.com/album/0XAIjjN5qxViVS0Y5fYkar'}, {'album_id': '2AvupjUeMnSffKEV05x222', 'name': 'Culture', 'release_date': '2017-04-07', 'total_tracks': 13, 'url': 'https://open.spotify.com/album/2AvupjUeMnSffKEV05x222'}, {'album_id': '55bbXORm6ZrVq52zfZnxBf', 'name': 'Encore', 'release_date': '2016-08-05', 'total_tracks': 14, 'url': 'https://open.spotify.com/album/55bbXORm6ZrVq52zfZnxBf'}, {'album_id': '22lEQJ7khtB2yvsq84FDQb', 'name': 'Motivan2', 'release_date': '2016-09-30', 'total_tracks': 18, 'url': 'https://open.spotify.com/album/22lEQJ7khtB2yvsq84FDQb'}, {'album_id': '2GJLzxAajkFeyDPVH7X4Cs', 'name': 'Glory Days (Deluxe)', 'release_date': '2016-11-18', 'total_tracks': 15, 'url': 'https://open.spotify.com/album/2GJLzxAajkFeyDPVH7X4Cs'}, {'album_id': '3cyyJALrHc8LawnQNFYRWL', 'name': 'Look At Me!', 'release_date': '2017-02-20', 'total_tracks': 1, 'url': 'https://open.spotify.com/album/3cyyJALrHc8LawnQNFYRWL'}, {'album_id': '2l3HIzSVnACXyTc2SduFOI', 'name': 'digital druglord', 'release_date': '2017-04-21', 'total_tracks': 10, 'url': 'https://open.spotify.com/album/2l3HIzSVnACXyTc2SduFOI'}, {'album_id': '7pyHLzYSyH7A4VW3tOFxNk', 'name': 'La Rompe Corazones', 'release_date': '2017-01-13', 'total_tracks': 1, 'url': 'https://open.spotify.com/album/7pyHLzYSyH7A4VW3tOFxNk'}, {'album_id': '0JjoGwsBjce2mgHRliH0VN', 'name': '9', 'release_date': '2017-04-28', 'total_tracks': 10, 'url': 'https://open.spotify.com/album/0JjoGwsBjce2mgHRliH0VN'}, {'album_id': '7GxsxPFTZANnpsAONtZlHQ', 'name': 'No Vacancy', 'release_date': '2017-04-28', 'total_tracks': 1, 'url': 'https://open.spotify.com/album/7GxsxPFTZANnpsAONtZlHQ'}, {'album_id': '3Nuw6arrA8kVwhIvyGbiku', 'name': 'HAIZ', 'release_date': '2016-07-15', 'total_tracks': 6, 'url': 'https://open.spotify.com/album/3Nuw6arrA8kVwhIvyGbiku'}, {'album_id': '64ph8p01P5H46Cs149uNyc', 'name': \"What Everyone's Thinking\", 'release_date': '2017-01-19', 'total_tracks': 5, 'url': 'https://open.spotify.com/album/64ph8p01P5H46Cs149uNyc'}, {'album_id': '4xnq1L6P551Qcb9gBXNMK7', 'name': '\"Awaken, My Love!\"', 'release_date': '2016-12-02', 'total_tracks': 11, 'url': 'https://open.spotify.com/album/4xnq1L6P551Qcb9gBXNMK7'}, {'album_id': '3Jvd3wjRENrLxPgUxQ5Exz', 'name': 'Green Light', 'release_date': '2017-03-02', 'total_tracks': 1, 'url': 'https://open.spotify.com/album/3Jvd3wjRENrLxPgUxQ5Exz'}, {'album_id': '4PgleR09JVnm3zY1fW3XBA', 'name': '24K Magic', 'release_date': '2016-11-17', 'total_tracks': 9, 'url': 'https://open.spotify.com/album/4PgleR09JVnm3zY1fW3XBA'}, {'album_id': '3NzslyWsrSJXTNNZbQMBWS', 'name': 'Tu Foto', 'release_date': '2017-04-27', 'total_tracks': 1, 'url': 'https://open.spotify.com/album/3NzslyWsrSJXTNNZbQMBWS'}, {'album_id': '2AvupjUeMnSffKEV05x222', 'name': 'Culture', 'release_date': '2017-04-07', 'total_tracks': 13, 'url': 'https://open.spotify.com/album/2AvupjUeMnSffKEV05x222'}, {'album_id': '2ucmNNr2Y9ZI7fP4oAMdIj', 'name': 'Sola (Remix)', 'release_date': '2016-12-01', 'total_tracks': 1, 'url': 'https://open.spotify.com/album/2ucmNNr2Y9ZI7fP4oAMdIj'}, {'album_id': '5PK9tQ7Ou1AvIww8zRn3SL', 'name': 'Whippin (feat. Felix Snow)', 'release_date': '2017-04-12', 'total_tracks': 1, 'url': 'https://open.spotify.com/album/5PK9tQ7Ou1AvIww8zRn3SL'}]\n"
     ]
    }
   ],
   "source": [
    "\n",
    "print(album_list)"
   ]
  },
  {
   "cell_type": "code",
   "execution_count": 39,
   "metadata": {},
   "outputs": [
    {
     "data": {
      "text/plain": [
       "[{'external_urls': {'spotify': 'https://open.spotify.com/artist/6eUKZXaKkcviH0Ku9w2n3V'},\n",
       "  'href': 'https://api.spotify.com/v1/artists/6eUKZXaKkcviH0Ku9w2n3V',\n",
       "  'id': '6eUKZXaKkcviH0Ku9w2n3V',\n",
       "  'name': 'Ed Sheeran',\n",
       "  'type': 'artist',\n",
       "  'uri': 'spotify:artist:6eUKZXaKkcviH0Ku9w2n3V'}]"
      ]
     },
     "execution_count": 39,
     "metadata": {},
     "output_type": "execute_result"
    }
   ],
   "source": [
    "data['items'][2]['track']['artists']"
   ]
  },
  {
   "cell_type": "code",
   "execution_count": 45,
   "metadata": {},
   "outputs": [
    {
     "data": {
      "text/plain": [
       "{'added_at': '2017-05-17T06:02:52Z',\n",
       " 'added_by': {'external_urls': {'spotify': 'https://open.spotify.com/user/spotify'},\n",
       "  'href': 'https://api.spotify.com/v1/users/spotify',\n",
       "  'id': 'spotify',\n",
       "  'type': 'user',\n",
       "  'uri': 'spotify:user:spotify'},\n",
       " 'is_local': False,\n",
       " 'primary_color': None,\n",
       " 'track': {'album': {'album_type': 'single',\n",
       "   'artists': [{'external_urls': {'spotify': 'https://open.spotify.com/artist/4V8Sr092TqfHkfAA5fXXqG'},\n",
       "     'href': 'https://api.spotify.com/v1/artists/4V8Sr092TqfHkfAA5fXXqG',\n",
       "     'id': '4V8Sr092TqfHkfAA5fXXqG',\n",
       "     'name': 'Luis Fonsi',\n",
       "     'type': 'artist',\n",
       "     'uri': 'spotify:artist:4V8Sr092TqfHkfAA5fXXqG'},\n",
       "    {'external_urls': {'spotify': 'https://open.spotify.com/artist/4VMYDCV2IEDYJArk749S6m'},\n",
       "     'href': 'https://api.spotify.com/v1/artists/4VMYDCV2IEDYJArk749S6m',\n",
       "     'id': '4VMYDCV2IEDYJArk749S6m',\n",
       "     'name': 'Daddy Yankee',\n",
       "     'type': 'artist',\n",
       "     'uri': 'spotify:artist:4VMYDCV2IEDYJArk749S6m'}],\n",
       "   'available_markets': [],\n",
       "   'external_urls': {'spotify': 'https://open.spotify.com/album/3smvpv7CdrhVcGYaNDLOqn'},\n",
       "   'href': 'https://api.spotify.com/v1/albums/3smvpv7CdrhVcGYaNDLOqn',\n",
       "   'id': '3smvpv7CdrhVcGYaNDLOqn',\n",
       "   'images': [{'height': 640,\n",
       "     'url': 'https://i.scdn.co/image/ab67616d0000b273d8559d0280ffe2a2af6dacdf',\n",
       "     'width': 640},\n",
       "    {'height': 300,\n",
       "     'url': 'https://i.scdn.co/image/ab67616d00001e02d8559d0280ffe2a2af6dacdf',\n",
       "     'width': 300},\n",
       "    {'height': 64,\n",
       "     'url': 'https://i.scdn.co/image/ab67616d00004851d8559d0280ffe2a2af6dacdf',\n",
       "     'width': 64}],\n",
       "   'name': 'Despacito Feat. Justin Bieber (Remix)',\n",
       "   'release_date': '2017-04-17',\n",
       "   'release_date_precision': 'day',\n",
       "   'total_tracks': 1,\n",
       "   'type': 'album',\n",
       "   'uri': 'spotify:album:3smvpv7CdrhVcGYaNDLOqn'},\n",
       "  'artists': [{'external_urls': {'spotify': 'https://open.spotify.com/artist/4V8Sr092TqfHkfAA5fXXqG'},\n",
       "    'href': 'https://api.spotify.com/v1/artists/4V8Sr092TqfHkfAA5fXXqG',\n",
       "    'id': '4V8Sr092TqfHkfAA5fXXqG',\n",
       "    'name': 'Luis Fonsi',\n",
       "    'type': 'artist',\n",
       "    'uri': 'spotify:artist:4V8Sr092TqfHkfAA5fXXqG'},\n",
       "   {'external_urls': {'spotify': 'https://open.spotify.com/artist/4VMYDCV2IEDYJArk749S6m'},\n",
       "    'href': 'https://api.spotify.com/v1/artists/4VMYDCV2IEDYJArk749S6m',\n",
       "    'id': '4VMYDCV2IEDYJArk749S6m',\n",
       "    'name': 'Daddy Yankee',\n",
       "    'type': 'artist',\n",
       "    'uri': 'spotify:artist:4VMYDCV2IEDYJArk749S6m'},\n",
       "   {'external_urls': {'spotify': 'https://open.spotify.com/artist/1uNFoZAHBGtllmzznpCI3s'},\n",
       "    'href': 'https://api.spotify.com/v1/artists/1uNFoZAHBGtllmzznpCI3s',\n",
       "    'id': '1uNFoZAHBGtllmzznpCI3s',\n",
       "    'name': 'Justin Bieber',\n",
       "    'type': 'artist',\n",
       "    'uri': 'spotify:artist:1uNFoZAHBGtllmzznpCI3s'}],\n",
       "  'available_markets': [],\n",
       "  'disc_number': 1,\n",
       "  'duration_ms': 228826,\n",
       "  'episode': False,\n",
       "  'explicit': False,\n",
       "  'external_ids': {'isrc': 'USUM71703825'},\n",
       "  'external_urls': {'spotify': 'https://open.spotify.com/track/5CtI0qwDJkDQGwXD1H1cLb'},\n",
       "  'href': 'https://api.spotify.com/v1/tracks/5CtI0qwDJkDQGwXD1H1cLb',\n",
       "  'id': '5CtI0qwDJkDQGwXD1H1cLb',\n",
       "  'is_local': False,\n",
       "  'name': 'Despacito - Remix',\n",
       "  'popularity': 0,\n",
       "  'preview_url': None,\n",
       "  'track': True,\n",
       "  'track_number': 1,\n",
       "  'type': 'track',\n",
       "  'uri': 'spotify:track:5CtI0qwDJkDQGwXD1H1cLb'},\n",
       " 'video_thumbnail': {'url': None}}"
      ]
     },
     "execution_count": 45,
     "metadata": {},
     "output_type": "execute_result"
    }
   ],
   "source": [
    "data['items'][0]"
   ]
  },
  {
   "cell_type": "code",
   "execution_count": 49,
   "metadata": {},
   "outputs": [],
   "source": [
    "artist_list=[]\n",
    "for row in data['items']:\n",
    "    for key, value in row.items():\n",
    "        if key == 'track':\n",
    "            for artist in value['artists']:\n",
    "                artist_dict={'artist_id':artist['id'],'artist_name':artist['name'],'external_url':artist['href']}\n",
    "                artist_list.append(artist_dict)"
   ]
  },
  {
   "cell_type": "code",
   "execution_count": 48,
   "metadata": {},
   "outputs": [
    {
     "name": "stdout",
     "output_type": "stream",
     "text": [
      "{'artist_id': '1qskAseW7apRxJBpYAO9Yk', 'artist_name': 'Felix Snow', 'external_url': 'https://api.spotify.com/v1/artists/1qskAseW7apRxJBpYAO9Yk'}\n"
     ]
    }
   ],
   "source": [
    "print(artist_dict)"
   ]
  },
  {
   "cell_type": "code",
   "execution_count": 51,
   "metadata": {},
   "outputs": [
    {
     "name": "stdout",
     "output_type": "stream",
     "text": [
      "[{'artist_id': '4V8Sr092TqfHkfAA5fXXqG', 'artist_name': 'Luis Fonsi', 'external_url': 'https://api.spotify.com/v1/artists/4V8Sr092TqfHkfAA5fXXqG'}, {'artist_id': '4VMYDCV2IEDYJArk749S6m', 'artist_name': 'Daddy Yankee', 'external_url': 'https://api.spotify.com/v1/artists/4VMYDCV2IEDYJArk749S6m'}, {'artist_id': '1uNFoZAHBGtllmzznpCI3s', 'artist_name': 'Justin Bieber', 'external_url': 'https://api.spotify.com/v1/artists/1uNFoZAHBGtllmzznpCI3s'}, {'artist_id': '0QHgL1lAIqAw0HtD7YldmP', 'artist_name': 'DJ Khaled', 'external_url': 'https://api.spotify.com/v1/artists/0QHgL1lAIqAw0HtD7YldmP'}, {'artist_id': '1uNFoZAHBGtllmzznpCI3s', 'artist_name': 'Justin Bieber', 'external_url': 'https://api.spotify.com/v1/artists/1uNFoZAHBGtllmzznpCI3s'}, {'artist_id': '0VRj0yCOv2FXJNP47XQnx5', 'artist_name': 'Quavo', 'external_url': 'https://api.spotify.com/v1/artists/0VRj0yCOv2FXJNP47XQnx5'}, {'artist_id': '1anyVhU62p31KFi8MEzkbf', 'artist_name': 'Chance the Rapper', 'external_url': 'https://api.spotify.com/v1/artists/1anyVhU62p31KFi8MEzkbf'}, {'artist_id': '55Aa2cqylxrFIXC767Z865', 'artist_name': 'Lil Wayne', 'external_url': 'https://api.spotify.com/v1/artists/55Aa2cqylxrFIXC767Z865'}, {'artist_id': '6eUKZXaKkcviH0Ku9w2n3V', 'artist_name': 'Ed Sheeran', 'external_url': 'https://api.spotify.com/v1/artists/6eUKZXaKkcviH0Ku9w2n3V'}, {'artist_id': '2YZyLoL8N0Wb9xBt1NhZWg', 'artist_name': 'Kendrick Lamar', 'external_url': 'https://api.spotify.com/v1/artists/2YZyLoL8N0Wb9xBt1NhZWg'}, {'artist_id': '1RyvyyTE3xzB2ZywiAwp0i', 'artist_name': 'Future', 'external_url': 'https://api.spotify.com/v1/artists/1RyvyyTE3xzB2ZywiAwp0i'}, {'artist_id': '69GGBxA162lTqCwzJG5jLp', 'artist_name': 'The Chainsmokers', 'external_url': 'https://api.spotify.com/v1/artists/69GGBxA162lTqCwzJG5jLp'}, {'artist_id': '4gzpq5DPGxSnKTe4SA8HAU', 'artist_name': 'Coldplay', 'external_url': 'https://api.spotify.com/v1/artists/4gzpq5DPGxSnKTe4SA8HAU'}, {'artist_id': '2qxJFvFYMEDqd7ui6kSAcq', 'artist_name': 'Zedd', 'external_url': 'https://api.spotify.com/v1/artists/2qxJFvFYMEDqd7ui6kSAcq'}, {'artist_id': '2wUjUUtkb5lvLKcGKsKqsR', 'artist_name': 'Alessia Cara', 'external_url': 'https://api.spotify.com/v1/artists/2wUjUUtkb5lvLKcGKsKqsR'}, {'artist_id': '23fqKkggKUBHNkbKtXEls4', 'artist_name': 'Kygo', 'external_url': 'https://api.spotify.com/v1/artists/23fqKkggKUBHNkbKtXEls4'}, {'artist_id': '0C8ZW7ezQVs4URX5aX7Kqx', 'artist_name': 'Selena Gomez', 'external_url': 'https://api.spotify.com/v1/artists/0C8ZW7ezQVs4URX5aX7Kqx'}, {'artist_id': '07YZf4WDAMNwqr4jfgOZ8y', 'artist_name': 'Jason Derulo', 'external_url': 'https://api.spotify.com/v1/artists/07YZf4WDAMNwqr4jfgOZ8y'}, {'artist_id': '0hCNtLu0JehylgoiP8L4Gh', 'artist_name': 'Nicki Minaj', 'external_url': 'https://api.spotify.com/v1/artists/0hCNtLu0JehylgoiP8L4Gh'}, {'artist_id': '7c0XG5cIJTrrAgEC3ULPiq', 'artist_name': 'Ty Dolla $ign', 'external_url': 'https://api.spotify.com/v1/artists/7c0XG5cIJTrrAgEC3ULPiq'}, {'artist_id': '5YGY8feqx7naU7z4HrwZM6', 'artist_name': 'Miley Cyrus', 'external_url': 'https://api.spotify.com/v1/artists/5YGY8feqx7naU7z4HrwZM6'}, {'artist_id': '7n2wHs1TKAczGzO7Dd2rGr', 'artist_name': 'Shawn Mendes', 'external_url': 'https://api.spotify.com/v1/artists/7n2wHs1TKAczGzO7Dd2rGr'}, {'artist_id': '0du5cEVh5yTK9QJze8zA0C', 'artist_name': 'Bruno Mars', 'external_url': 'https://api.spotify.com/v1/artists/0du5cEVh5yTK9QJze8zA0C'}, {'artist_id': '6MDME20pz9RveH9rEXvrOM', 'artist_name': 'Clean Bandit', 'external_url': 'https://api.spotify.com/v1/artists/6MDME20pz9RveH9rEXvrOM'}, {'artist_id': '1Xylc3o4UrD53lo9CvFvVg', 'artist_name': 'Zara Larsson', 'external_url': 'https://api.spotify.com/v1/artists/1Xylc3o4UrD53lo9CvFvVg'}, {'artist_id': '4V8Sr092TqfHkfAA5fXXqG', 'artist_name': 'Luis Fonsi', 'external_url': 'https://api.spotify.com/v1/artists/4V8Sr092TqfHkfAA5fXXqG'}, {'artist_id': '4VMYDCV2IEDYJArk749S6m', 'artist_name': 'Daddy Yankee', 'external_url': 'https://api.spotify.com/v1/artists/4VMYDCV2IEDYJArk749S6m'}, {'artist_id': '6VuMaDnrHyPL1p4EHjYLi7', 'artist_name': 'Charlie Puth', 'external_url': 'https://api.spotify.com/v1/artists/6VuMaDnrHyPL1p4EHjYLi7'}, {'artist_id': '3TVXtAsR1Inumwj472S9r4', 'artist_name': 'Drake', 'external_url': 'https://api.spotify.com/v1/artists/3TVXtAsR1Inumwj472S9r4'}, {'artist_id': '6KImCVD70vtIoJWnq6nGn3', 'artist_name': 'Harry Styles', 'external_url': 'https://api.spotify.com/v1/artists/6KImCVD70vtIoJWnq6nGn3'}, {'artist_id': '4O15NlyKLIASxsJ0PrXPfz', 'artist_name': 'Lil Uzi Vert', 'external_url': 'https://api.spotify.com/v1/artists/4O15NlyKLIASxsJ0PrXPfz'}, {'artist_id': '23fqKkggKUBHNkbKtXEls4', 'artist_name': 'Kygo', 'external_url': 'https://api.spotify.com/v1/artists/23fqKkggKUBHNkbKtXEls4'}, {'artist_id': '0X2BH1fck6amBIoJhDVmmJ', 'artist_name': 'Ellie Goulding', 'external_url': 'https://api.spotify.com/v1/artists/0X2BH1fck6amBIoJhDVmmJ'}, {'artist_id': '1r4hJ1h58CWwUQe3MxPuau', 'artist_name': 'Maluma', 'external_url': 'https://api.spotify.com/v1/artists/1r4hJ1h58CWwUQe3MxPuau'}, {'artist_id': '6vXTefBL93Dj5IqAWq6OTv', 'artist_name': 'French Montana', 'external_url': 'https://api.spotify.com/v1/artists/6vXTefBL93Dj5IqAWq6OTv'}, {'artist_id': '1zNqQNIdeOUZHb8zbZRFMX', 'artist_name': 'Swae Lee', 'external_url': 'https://api.spotify.com/v1/artists/1zNqQNIdeOUZHb8zbZRFMX'}, {'artist_id': '2YZyLoL8N0Wb9xBt1NhZWg', 'artist_name': 'Kendrick Lamar', 'external_url': 'https://api.spotify.com/v1/artists/2YZyLoL8N0Wb9xBt1NhZWg'}, {'artist_id': '0ZED1XzwlLHW4ZaG4lOT6m', 'artist_name': 'Julia Michaels', 'external_url': 'https://api.spotify.com/v1/artists/0ZED1XzwlLHW4ZaG4lOT6m'}, {'artist_id': '60d24wfXkVzDSfLS6hyCjZ', 'artist_name': 'Martin Garrix', 'external_url': 'https://api.spotify.com/v1/artists/60d24wfXkVzDSfLS6hyCjZ'}, {'artist_id': '6M2wZ9GZgrQXHCFfjv46we', 'artist_name': 'Dua Lipa', 'external_url': 'https://api.spotify.com/v1/artists/6M2wZ9GZgrQXHCFfjv46we'}, {'artist_id': '6eUKZXaKkcviH0Ku9w2n3V', 'artist_name': 'Ed Sheeran', 'external_url': 'https://api.spotify.com/v1/artists/6eUKZXaKkcviH0Ku9w2n3V'}, {'artist_id': '7CajNmpbOovFoOoasH2HaY', 'artist_name': 'Calvin Harris', 'external_url': 'https://api.spotify.com/v1/artists/7CajNmpbOovFoOoasH2HaY'}, {'artist_id': '2h93pZq0e7k5yf4dywlkpM', 'artist_name': 'Frank Ocean', 'external_url': 'https://api.spotify.com/v1/artists/2h93pZq0e7k5yf4dywlkpM'}, {'artist_id': '6oMuImdp5ZcFhWP0ESe6mG', 'artist_name': 'Migos', 'external_url': 'https://api.spotify.com/v1/artists/6oMuImdp5ZcFhWP0ESe6mG'}, {'artist_id': '246dkjvS1zLTtiykXe5h60', 'artist_name': 'Post Malone', 'external_url': 'https://api.spotify.com/v1/artists/246dkjvS1zLTtiykXe5h60'}, {'artist_id': '0VRj0yCOv2FXJNP47XQnx5', 'artist_name': 'Quavo', 'external_url': 'https://api.spotify.com/v1/artists/0VRj0yCOv2FXJNP47XQnx5'}, {'artist_id': '7DMveApC7UnC2NPfPvlHSU', 'artist_name': 'Cheat Codes', 'external_url': 'https://api.spotify.com/v1/artists/7DMveApC7UnC2NPfPvlHSU'}, {'artist_id': '6S2OmqARrzebs0tKUEyXyp', 'artist_name': 'Demi Lovato', 'external_url': 'https://api.spotify.com/v1/artists/6S2OmqARrzebs0tKUEyXyp'}, {'artist_id': '4xRYI6VqpkE3UwrDrAZL8L', 'artist_name': 'Logic', 'external_url': 'https://api.spotify.com/v1/artists/4xRYI6VqpkE3UwrDrAZL8L'}, {'artist_id': '2wUjUUtkb5lvLKcGKsKqsR', 'artist_name': 'Alessia Cara', 'external_url': 'https://api.spotify.com/v1/artists/2wUjUUtkb5lvLKcGKsKqsR'}, {'artist_id': '6LuN9FCkKOj5PcnpouEgny', 'artist_name': 'Khalid', 'external_url': 'https://api.spotify.com/v1/artists/6LuN9FCkKOj5PcnpouEgny'}, {'artist_id': '53XhwfbYqKCa1cC15pYq2q', 'artist_name': 'Imagine Dragons', 'external_url': 'https://api.spotify.com/v1/artists/53XhwfbYqKCa1cC15pYq2q'}, {'artist_id': '7qG3b048QCHVRO5Pv1T5lw', 'artist_name': 'Enrique Iglesias', 'external_url': 'https://api.spotify.com/v1/artists/7qG3b048QCHVRO5Pv1T5lw'}, {'artist_id': '5luyt0SUvGkDMY4ILP6Qhl', 'artist_name': 'Descemer Bueno', 'external_url': 'https://api.spotify.com/v1/artists/5luyt0SUvGkDMY4ILP6Qhl'}, {'artist_id': '21451j1KhjAiaYKflxBjr1', 'artist_name': 'Zion & Lennox', 'external_url': 'https://api.spotify.com/v1/artists/21451j1KhjAiaYKflxBjr1'}, {'artist_id': '0uGk2czvcpWQA383Im6ajf', 'artist_name': 'Maggie Lindemann', 'external_url': 'https://api.spotify.com/v1/artists/0uGk2czvcpWQA383Im6ajf'}, {'artist_id': '0CEK8AzyeD5ZUdUloB6yQV', 'artist_name': 'CADE', 'external_url': 'https://api.spotify.com/v1/artists/0CEK8AzyeD5ZUdUloB6yQV'}, {'artist_id': '7DMveApC7UnC2NPfPvlHSU', 'artist_name': 'Cheat Codes', 'external_url': 'https://api.spotify.com/v1/artists/7DMveApC7UnC2NPfPvlHSU'}, {'artist_id': '5H1nN1SzW0qNeUEZvuXjAj', 'artist_name': 'Danny Ocean', 'external_url': 'https://api.spotify.com/v1/artists/5H1nN1SzW0qNeUEZvuXjAj'}, {'artist_id': '1HY2Jd0NmPuamShAr6KMms', 'artist_name': 'Lady Gaga', 'external_url': 'https://api.spotify.com/v1/artists/1HY2Jd0NmPuamShAr6KMms'}, {'artist_id': '4qBgvVog0wzW75IQ48mU7v', 'artist_name': 'KYLE', 'external_url': 'https://api.spotify.com/v1/artists/4qBgvVog0wzW75IQ48mU7v'}, {'artist_id': '6icQOAFXDZKsumw3YXyusw', 'artist_name': 'Lil Yachty', 'external_url': 'https://api.spotify.com/v1/artists/6icQOAFXDZKsumw3YXyusw'}, {'artist_id': '02kJSzxNuaWGqwubyUba0Z', 'artist_name': 'G-Eazy', 'external_url': 'https://api.spotify.com/v1/artists/02kJSzxNuaWGqwubyUba0Z'}, {'artist_id': '0cGUm45nv7Z6M6qdXYQGTX', 'artist_name': 'Kehlani', 'external_url': 'https://api.spotify.com/v1/artists/0cGUm45nv7Z6M6qdXYQGTX'}, {'artist_id': '26VFTg2z8YR0cCuwLzESi2', 'artist_name': 'Halsey', 'external_url': 'https://api.spotify.com/v1/artists/26VFTg2z8YR0cCuwLzESi2'}, {'artist_id': '53XhwfbYqKCa1cC15pYq2q', 'artist_name': 'Imagine Dragons', 'external_url': 'https://api.spotify.com/v1/artists/53XhwfbYqKCa1cC15pYq2q'}, {'artist_id': '6LuN9FCkKOj5PcnpouEgny', 'artist_name': 'Khalid', 'external_url': 'https://api.spotify.com/v1/artists/6LuN9FCkKOj5PcnpouEgny'}, {'artist_id': '6MDME20pz9RveH9rEXvrOM', 'artist_name': 'Clean Bandit', 'external_url': 'https://api.spotify.com/v1/artists/6MDME20pz9RveH9rEXvrOM'}, {'artist_id': '3Isy6kedDrgPYoTS1dazA9', 'artist_name': 'Sean Paul', 'external_url': 'https://api.spotify.com/v1/artists/3Isy6kedDrgPYoTS1dazA9'}, {'artist_id': '1zNqDE7qDGCsyzJwohVaoX', 'artist_name': 'Anne-Marie', 'external_url': 'https://api.spotify.com/v1/artists/1zNqDE7qDGCsyzJwohVaoX'}, {'artist_id': '69GGBxA162lTqCwzJG5jLp', 'artist_name': 'The Chainsmokers', 'external_url': 'https://api.spotify.com/v1/artists/69GGBxA162lTqCwzJG5jLp'}, {'artist_id': '02A3cEvlLLCbIMVDrK2GHV', 'artist_name': 'Starley', 'external_url': 'https://api.spotify.com/v1/artists/02A3cEvlLLCbIMVDrK2GHV'}, {'artist_id': '33JQK4UoS2aMPYBfdB5Ftt', 'artist_name': 'Ryan Riback', 'external_url': 'https://api.spotify.com/v1/artists/33JQK4UoS2aMPYBfdB5Ftt'}, {'artist_id': '7CajNmpbOovFoOoasH2HaY', 'artist_name': 'Calvin Harris', 'external_url': 'https://api.spotify.com/v1/artists/7CajNmpbOovFoOoasH2HaY'}, {'artist_id': '1RyvyyTE3xzB2ZywiAwp0i', 'artist_name': 'Future', 'external_url': 'https://api.spotify.com/v1/artists/1RyvyyTE3xzB2ZywiAwp0i'}, {'artist_id': '6LuN9FCkKOj5PcnpouEgny', 'artist_name': 'Khalid', 'external_url': 'https://api.spotify.com/v1/artists/6LuN9FCkKOj5PcnpouEgny'}, {'artist_id': '5ZsFI1h6hIdQRw2ti0hz81', 'artist_name': 'ZAYN', 'external_url': 'https://api.spotify.com/v1/artists/5ZsFI1h6hIdQRw2ti0hz81'}, {'artist_id': '06HL4z0CvFAxyc27GXpf02', 'artist_name': 'Taylor Swift', 'external_url': 'https://api.spotify.com/v1/artists/06HL4z0CvFAxyc27GXpf02'}, {'artist_id': '04gDigrS5kc9YWfZHwBETP', 'artist_name': 'Maroon 5', 'external_url': 'https://api.spotify.com/v1/artists/04gDigrS5kc9YWfZHwBETP'}, {'artist_id': '1RyvyyTE3xzB2ZywiAwp0i', 'artist_name': 'Future', 'external_url': 'https://api.spotify.com/v1/artists/1RyvyyTE3xzB2ZywiAwp0i'}, {'artist_id': '2YZyLoL8N0Wb9xBt1NhZWg', 'artist_name': 'Kendrick Lamar', 'external_url': 'https://api.spotify.com/v1/artists/2YZyLoL8N0Wb9xBt1NhZWg'}, {'artist_id': '3qBKjEOanahMxlRojwCzhI', 'artist_name': 'Zacari', 'external_url': 'https://api.spotify.com/v1/artists/3qBKjEOanahMxlRojwCzhI'}, {'artist_id': '1Xyo4u8uXC1ZmMpatF05PJ', 'artist_name': 'The Weeknd', 'external_url': 'https://api.spotify.com/v1/artists/1Xyo4u8uXC1ZmMpatF05PJ'}, {'artist_id': '4tZwfgrHOc3mvqYlEYSvVi', 'artist_name': 'Daft Punk', 'external_url': 'https://api.spotify.com/v1/artists/4tZwfgrHOc3mvqYlEYSvVi'}, {'artist_id': '1SupJlEpv7RS2tPNRaHViT', 'artist_name': 'Nicky Jam', 'external_url': 'https://api.spotify.com/v1/artists/1SupJlEpv7RS2tPNRaHViT'}, {'artist_id': '4Q6nIcaBED8qUel8bBx6Cr', 'artist_name': 'Jax Jones', 'external_url': 'https://api.spotify.com/v1/artists/4Q6nIcaBED8qUel8bBx6Cr'}, {'artist_id': '5KKpBU5eC2tJDzf0wmlRp2', 'artist_name': 'RAYE', 'external_url': 'https://api.spotify.com/v1/artists/5KKpBU5eC2tJDzf0wmlRp2'}, {'artist_id': '1Hsdzj7Dlq2I7tHP7501T4', 'artist_name': 'Niall Horan', 'external_url': 'https://api.spotify.com/v1/artists/1Hsdzj7Dlq2I7tHP7501T4'}, {'artist_id': '4ehtJnVumNf6xzSCDk8aLB', 'artist_name': 'Martin Jensen', 'external_url': 'https://api.spotify.com/v1/artists/4ehtJnVumNf6xzSCDk8aLB'}, {'artist_id': '6jJ0s89eD6GaHleKKya26X', 'artist_name': 'Katy Perry', 'external_url': 'https://api.spotify.com/v1/artists/6jJ0s89eD6GaHleKKya26X'}, {'artist_id': '6oMuImdp5ZcFhWP0ESe6mG', 'artist_name': 'Migos', 'external_url': 'https://api.spotify.com/v1/artists/6oMuImdp5ZcFhWP0ESe6mG'}, {'artist_id': '3E6xrwgnVfYCrCs0ePERDz', 'artist_name': 'Wisin', 'external_url': 'https://api.spotify.com/v1/artists/3E6xrwgnVfYCrCs0ePERDz'}, {'artist_id': '1i8SpTcr7yvPOmcqrbnVXY', 'artist_name': 'Ozuna', 'external_url': 'https://api.spotify.com/v1/artists/1i8SpTcr7yvPOmcqrbnVXY'}, {'artist_id': '4IWBUUAFIplrNtaOHcJPRM', 'artist_name': 'James Arthur', 'external_url': 'https://api.spotify.com/v1/artists/4IWBUUAFIplrNtaOHcJPRM'}, {'artist_id': '3TVXtAsR1Inumwj472S9r4', 'artist_name': 'Drake', 'external_url': 'https://api.spotify.com/v1/artists/3TVXtAsR1Inumwj472S9r4'}, {'artist_id': '0VRj0yCOv2FXJNP47XQnx5', 'artist_name': 'Quavo', 'external_url': 'https://api.spotify.com/v1/artists/0VRj0yCOv2FXJNP47XQnx5'}, {'artist_id': '0Y5tJX1MQlPlqiwlOH1tJY', 'artist_name': 'Travis Scott', 'external_url': 'https://api.spotify.com/v1/artists/0Y5tJX1MQlPlqiwlOH1tJY'}, {'artist_id': '2YZyLoL8N0Wb9xBt1NhZWg', 'artist_name': 'Kendrick Lamar', 'external_url': 'https://api.spotify.com/v1/artists/2YZyLoL8N0Wb9xBt1NhZWg'}, {'artist_id': '5pKCCKE2ajJHZ9KAiaK11H', 'artist_name': 'Rihanna', 'external_url': 'https://api.spotify.com/v1/artists/5pKCCKE2ajJHZ9KAiaK11H'}, {'artist_id': '0qTZZWLzuD59Un5r1speHm', 'artist_name': 'Chris Jedi', 'external_url': 'https://api.spotify.com/v1/artists/0qTZZWLzuD59Un5r1speHm'}, {'artist_id': '1vyhD5VmyZ7KMfW5gqLgo5', 'artist_name': 'J Balvin', 'external_url': 'https://api.spotify.com/v1/artists/1vyhD5VmyZ7KMfW5gqLgo5'}, {'artist_id': '1i8SpTcr7yvPOmcqrbnVXY', 'artist_name': 'Ozuna', 'external_url': 'https://api.spotify.com/v1/artists/1i8SpTcr7yvPOmcqrbnVXY'}, {'artist_id': '4SsVbpTthjScTS7U2hmr1X', 'artist_name': 'Arcángel', 'external_url': 'https://api.spotify.com/v1/artists/4SsVbpTthjScTS7U2hmr1X'}, {'artist_id': '6ltzsmQQbmdoHHbLZ4ZN25', 'artist_name': 'Lord Huron', 'external_url': 'https://api.spotify.com/v1/artists/6ltzsmQQbmdoHHbLZ4ZN25'}, {'artist_id': '4ON1ruy5ijE7ZPQthbrkgI', 'artist_name': 'Burak Yeter', 'external_url': 'https://api.spotify.com/v1/artists/4ON1ruy5ijE7ZPQthbrkgI'}, {'artist_id': '7Dz9goFmVZZqvJxZoKg7pF', 'artist_name': 'Danelle Sandoval', 'external_url': 'https://api.spotify.com/v1/artists/7Dz9goFmVZZqvJxZoKg7pF'}, {'artist_id': '0TnOYISbd1XYRBk9myaseg', 'artist_name': 'Pitbull', 'external_url': 'https://api.spotify.com/v1/artists/0TnOYISbd1XYRBk9myaseg'}, {'artist_id': '1vyhD5VmyZ7KMfW5gqLgo5', 'artist_name': 'J Balvin', 'external_url': 'https://api.spotify.com/v1/artists/1vyhD5VmyZ7KMfW5gqLgo5'}, {'artist_id': '4nDoRrQiYLoBzwC5BhVJzF', 'artist_name': 'Camila Cabello', 'external_url': 'https://api.spotify.com/v1/artists/4nDoRrQiYLoBzwC5BhVJzF'}, {'artist_id': '6KImCVD70vtIoJWnq6nGn3', 'artist_name': 'Harry Styles', 'external_url': 'https://api.spotify.com/v1/artists/6KImCVD70vtIoJWnq6nGn3'}, {'artist_id': '69GGBxA162lTqCwzJG5jLp', 'artist_name': 'The Chainsmokers', 'external_url': 'https://api.spotify.com/v1/artists/69GGBxA162lTqCwzJG5jLp'}, {'artist_id': '26VFTg2z8YR0cCuwLzESi2', 'artist_name': 'Halsey', 'external_url': 'https://api.spotify.com/v1/artists/26VFTg2z8YR0cCuwLzESi2'}, {'artist_id': '6eUKZXaKkcviH0Ku9w2n3V', 'artist_name': 'Ed Sheeran', 'external_url': 'https://api.spotify.com/v1/artists/6eUKZXaKkcviH0Ku9w2n3V'}, {'artist_id': '46SHBwWsqBkxI7EeeBEQG7', 'artist_name': 'Kodak Black', 'external_url': 'https://api.spotify.com/v1/artists/46SHBwWsqBkxI7EeeBEQG7'}, {'artist_id': '5ZsFI1h6hIdQRw2ti0hz81', 'artist_name': 'ZAYN', 'external_url': 'https://api.spotify.com/v1/artists/5ZsFI1h6hIdQRw2ti0hz81'}, {'artist_id': '2HPaUgqeutzr3jx5a9WyDV', 'artist_name': 'PARTYNEXTDOOR', 'external_url': 'https://api.spotify.com/v1/artists/2HPaUgqeutzr3jx5a9WyDV'}, {'artist_id': '2YZyLoL8N0Wb9xBt1NhZWg', 'artist_name': 'Kendrick Lamar', 'external_url': 'https://api.spotify.com/v1/artists/2YZyLoL8N0Wb9xBt1NhZWg'}, {'artist_id': '5p7f24Rk5HkUZsaS3BLG5F', 'artist_name': 'Hailee Steinfeld', 'external_url': 'https://api.spotify.com/v1/artists/5p7f24Rk5HkUZsaS3BLG5F'}, {'artist_id': '0EmeFodog0BfCgMzAIvKQp', 'artist_name': 'Shakira', 'external_url': 'https://api.spotify.com/v1/artists/0EmeFodog0BfCgMzAIvKQp'}, {'artist_id': '1r4hJ1h58CWwUQe3MxPuau', 'artist_name': 'Maluma', 'external_url': 'https://api.spotify.com/v1/artists/1r4hJ1h58CWwUQe3MxPuau'}, {'artist_id': '0Y5tJX1MQlPlqiwlOH1tJY', 'artist_name': 'Travis Scott', 'external_url': 'https://api.spotify.com/v1/artists/0Y5tJX1MQlPlqiwlOH1tJY'}, {'artist_id': '1Xyo4u8uXC1ZmMpatF05PJ', 'artist_name': 'The Weeknd', 'external_url': 'https://api.spotify.com/v1/artists/1Xyo4u8uXC1ZmMpatF05PJ'}, {'artist_id': '4tZwfgrHOc3mvqYlEYSvVi', 'artist_name': 'Daft Punk', 'external_url': 'https://api.spotify.com/v1/artists/4tZwfgrHOc3mvqYlEYSvVi'}, {'artist_id': '1RyvyyTE3xzB2ZywiAwp0i', 'artist_name': 'Future', 'external_url': 'https://api.spotify.com/v1/artists/1RyvyyTE3xzB2ZywiAwp0i'}, {'artist_id': '5pKCCKE2ajJHZ9KAiaK11H', 'artist_name': 'Rihanna', 'external_url': 'https://api.spotify.com/v1/artists/5pKCCKE2ajJHZ9KAiaK11H'}, {'artist_id': '1vyhD5VmyZ7KMfW5gqLgo5', 'artist_name': 'J Balvin', 'external_url': 'https://api.spotify.com/v1/artists/1vyhD5VmyZ7KMfW5gqLgo5'}, {'artist_id': '6eUKZXaKkcviH0Ku9w2n3V', 'artist_name': 'Ed Sheeran', 'external_url': 'https://api.spotify.com/v1/artists/6eUKZXaKkcviH0Ku9w2n3V'}, {'artist_id': '6oMuImdp5ZcFhWP0ESe6mG', 'artist_name': 'Migos', 'external_url': 'https://api.spotify.com/v1/artists/6oMuImdp5ZcFhWP0ESe6mG'}, {'artist_id': '4O15NlyKLIASxsJ0PrXPfz', 'artist_name': 'Lil Uzi Vert', 'external_url': 'https://api.spotify.com/v1/artists/4O15NlyKLIASxsJ0PrXPfz'}, {'artist_id': '3TVXtAsR1Inumwj472S9r4', 'artist_name': 'Drake', 'external_url': 'https://api.spotify.com/v1/artists/3TVXtAsR1Inumwj472S9r4'}, {'artist_id': '3tVQdUvClmAT7URs9V3rsp', 'artist_name': 'Wizkid', 'external_url': 'https://api.spotify.com/v1/artists/3tVQdUvClmAT7URs9V3rsp'}, {'artist_id': '77DAFfvm3O9zT5dIoG0eIO', 'artist_name': 'Kyla', 'external_url': 'https://api.spotify.com/v1/artists/77DAFfvm3O9zT5dIoG0eIO'}, {'artist_id': '2kucQ9jQwuD8jWdtR9Ef38', 'artist_name': 'Sam Hunt', 'external_url': 'https://api.spotify.com/v1/artists/2kucQ9jQwuD8jWdtR9Ef38'}, {'artist_id': '4kYGAK2zu9EAomwj3hXkXy', 'artist_name': 'JP Cooper', 'external_url': 'https://api.spotify.com/v1/artists/4kYGAK2zu9EAomwj3hXkXy'}, {'artist_id': '0eecdvMrqBftK0M1VKhaF4', 'artist_name': 'CNCO', 'external_url': 'https://api.spotify.com/v1/artists/0eecdvMrqBftK0M1VKhaF4'}, {'artist_id': '0eHQ9o50hj6ZDNBt6Ys1sD', 'artist_name': 'Yandel', 'external_url': 'https://api.spotify.com/v1/artists/0eHQ9o50hj6ZDNBt6Ys1sD'}, {'artist_id': '6jJ0s89eD6GaHleKKya26X', 'artist_name': 'Katy Perry', 'external_url': 'https://api.spotify.com/v1/artists/6jJ0s89eD6GaHleKKya26X'}, {'artist_id': '4ryoUS0W8qXokfMxrlJt6O', 'artist_name': 'Skip Marley', 'external_url': 'https://api.spotify.com/v1/artists/4ryoUS0W8qXokfMxrlJt6O'}, {'artist_id': '3TVXtAsR1Inumwj472S9r4', 'artist_name': 'Drake', 'external_url': 'https://api.spotify.com/v1/artists/3TVXtAsR1Inumwj472S9r4'}, {'artist_id': '69GGBxA162lTqCwzJG5jLp', 'artist_name': 'The Chainsmokers', 'external_url': 'https://api.spotify.com/v1/artists/69GGBxA162lTqCwzJG5jLp'}, {'artist_id': '0c173mlxpT3dSFRgMO8XPh', 'artist_name': 'Big Sean', 'external_url': 'https://api.spotify.com/v1/artists/0c173mlxpT3dSFRgMO8XPh'}, {'artist_id': '6oMuImdp5ZcFhWP0ESe6mG', 'artist_name': 'Migos', 'external_url': 'https://api.spotify.com/v1/artists/6oMuImdp5ZcFhWP0ESe6mG'}, {'artist_id': '13y7CgLHjMVRMDqxdx0Xdo', 'artist_name': 'Gucci Mane', 'external_url': 'https://api.spotify.com/v1/artists/13y7CgLHjMVRMDqxdx0Xdo'}, {'artist_id': '540vIaP2JwjQb9dm3aArA4', 'artist_name': 'DJ Snake', 'external_url': 'https://api.spotify.com/v1/artists/540vIaP2JwjQb9dm3aArA4'}, {'artist_id': '1uNFoZAHBGtllmzznpCI3s', 'artist_name': 'Justin Bieber', 'external_url': 'https://api.spotify.com/v1/artists/1uNFoZAHBGtllmzznpCI3s'}, {'artist_id': '21451j1KhjAiaYKflxBjr1', 'artist_name': 'Zion & Lennox', 'external_url': 'https://api.spotify.com/v1/artists/21451j1KhjAiaYKflxBjr1'}, {'artist_id': '1vyhD5VmyZ7KMfW5gqLgo5', 'artist_name': 'J Balvin', 'external_url': 'https://api.spotify.com/v1/artists/1vyhD5VmyZ7KMfW5gqLgo5'}, {'artist_id': '3e7awlrlDSwF3iM0WBjGMp', 'artist_name': 'Little Mix', 'external_url': 'https://api.spotify.com/v1/artists/3e7awlrlDSwF3iM0WBjGMp'}, {'artist_id': '15UsOTVnJzReFVN1VCnxy4', 'artist_name': 'XXXTENTACION', 'external_url': 'https://api.spotify.com/v1/artists/15UsOTVnJzReFVN1VCnxy4'}, {'artist_id': '2cFrymmkijnjDg9SS92EPM', 'artist_name': 'blackbear', 'external_url': 'https://api.spotify.com/v1/artists/2cFrymmkijnjDg9SS92EPM'}, {'artist_id': '4VMYDCV2IEDYJArk749S6m', 'artist_name': 'Daddy Yankee', 'external_url': 'https://api.spotify.com/v1/artists/4VMYDCV2IEDYJArk749S6m'}, {'artist_id': '1i8SpTcr7yvPOmcqrbnVXY', 'artist_name': 'Ozuna', 'external_url': 'https://api.spotify.com/v1/artists/1i8SpTcr7yvPOmcqrbnVXY'}, {'artist_id': '2LZDXcxJWgsJfKXZv9a5eG', 'artist_name': 'Cashmere Cat', 'external_url': 'https://api.spotify.com/v1/artists/2LZDXcxJWgsJfKXZv9a5eG'}, {'artist_id': '66CXWjxzNUsdJxJ2JdwvnR', 'artist_name': 'Ariana Grande', 'external_url': 'https://api.spotify.com/v1/artists/66CXWjxzNUsdJxJ2JdwvnR'}, {'artist_id': '5Pwc4xIPtQLFEnJriah9YJ', 'artist_name': 'OneRepublic', 'external_url': 'https://api.spotify.com/v1/artists/5Pwc4xIPtQLFEnJriah9YJ'}, {'artist_id': '5p7f24Rk5HkUZsaS3BLG5F', 'artist_name': 'Hailee Steinfeld', 'external_url': 'https://api.spotify.com/v1/artists/5p7f24Rk5HkUZsaS3BLG5F'}, {'artist_id': '4lDBihdpMlOalxy1jkUbPl', 'artist_name': 'Grey', 'external_url': 'https://api.spotify.com/v1/artists/4lDBihdpMlOalxy1jkUbPl'}, {'artist_id': '2qxJFvFYMEDqd7ui6kSAcq', 'artist_name': 'Zedd', 'external_url': 'https://api.spotify.com/v1/artists/2qxJFvFYMEDqd7ui6kSAcq'}, {'artist_id': '6s22t5Y3prQHyaHWUN1R1C', 'artist_name': 'AJR', 'external_url': 'https://api.spotify.com/v1/artists/6s22t5Y3prQHyaHWUN1R1C'}, {'artist_id': '73sIBHcqh3Z3NyqHKZ7FOL', 'artist_name': 'Childish Gambino', 'external_url': 'https://api.spotify.com/v1/artists/73sIBHcqh3Z3NyqHKZ7FOL'}, {'artist_id': '163tK9Wjr9P9DmM0AVK7lm', 'artist_name': 'Lorde', 'external_url': 'https://api.spotify.com/v1/artists/163tK9Wjr9P9DmM0AVK7lm'}, {'artist_id': '0du5cEVh5yTK9QJze8zA0C', 'artist_name': 'Bruno Mars', 'external_url': 'https://api.spotify.com/v1/artists/0du5cEVh5yTK9QJze8zA0C'}, {'artist_id': '1i8SpTcr7yvPOmcqrbnVXY', 'artist_name': 'Ozuna', 'external_url': 'https://api.spotify.com/v1/artists/1i8SpTcr7yvPOmcqrbnVXY'}, {'artist_id': '6oMuImdp5ZcFhWP0ESe6mG', 'artist_name': 'Migos', 'external_url': 'https://api.spotify.com/v1/artists/6oMuImdp5ZcFhWP0ESe6mG'}, {'artist_id': '2R21vXR83lH98kGeO99Y66', 'artist_name': 'Anuel AA', 'external_url': 'https://api.spotify.com/v1/artists/2R21vXR83lH98kGeO99Y66'}, {'artist_id': '4VMYDCV2IEDYJArk749S6m', 'artist_name': 'Daddy Yankee', 'external_url': 'https://api.spotify.com/v1/artists/4VMYDCV2IEDYJArk749S6m'}, {'artist_id': '21451j1KhjAiaYKflxBjr1', 'artist_name': 'Zion & Lennox', 'external_url': 'https://api.spotify.com/v1/artists/21451j1KhjAiaYKflxBjr1'}, {'artist_id': '329e4yvIujISKGKz1BZZbO', 'artist_name': 'Farruko', 'external_url': 'https://api.spotify.com/v1/artists/329e4yvIujISKGKz1BZZbO'}, {'artist_id': '3E6xrwgnVfYCrCs0ePERDz', 'artist_name': 'Wisin', 'external_url': 'https://api.spotify.com/v1/artists/3E6xrwgnVfYCrCs0ePERDz'}, {'artist_id': '4u5smJBskI6Adzv08PuiUP', 'artist_name': 'Kiiara', 'external_url': 'https://api.spotify.com/v1/artists/4u5smJBskI6Adzv08PuiUP'}, {'artist_id': '1qskAseW7apRxJBpYAO9Yk', 'artist_name': 'Felix Snow', 'external_url': 'https://api.spotify.com/v1/artists/1qskAseW7apRxJBpYAO9Yk'}]\n"
     ]
    }
   ],
   "source": [
    "print(artist_list)"
   ]
  },
  {
   "cell_type": "code",
   "execution_count": 56,
   "metadata": {},
   "outputs": [
    {
     "data": {
      "text/plain": [
       "{'album': {'album_type': 'single',\n",
       "  'artists': [{'external_urls': {'spotify': 'https://open.spotify.com/artist/4V8Sr092TqfHkfAA5fXXqG'},\n",
       "    'href': 'https://api.spotify.com/v1/artists/4V8Sr092TqfHkfAA5fXXqG',\n",
       "    'id': '4V8Sr092TqfHkfAA5fXXqG',\n",
       "    'name': 'Luis Fonsi',\n",
       "    'type': 'artist',\n",
       "    'uri': 'spotify:artist:4V8Sr092TqfHkfAA5fXXqG'},\n",
       "   {'external_urls': {'spotify': 'https://open.spotify.com/artist/4VMYDCV2IEDYJArk749S6m'},\n",
       "    'href': 'https://api.spotify.com/v1/artists/4VMYDCV2IEDYJArk749S6m',\n",
       "    'id': '4VMYDCV2IEDYJArk749S6m',\n",
       "    'name': 'Daddy Yankee',\n",
       "    'type': 'artist',\n",
       "    'uri': 'spotify:artist:4VMYDCV2IEDYJArk749S6m'}],\n",
       "  'available_markets': [],\n",
       "  'external_urls': {'spotify': 'https://open.spotify.com/album/3smvpv7CdrhVcGYaNDLOqn'},\n",
       "  'href': 'https://api.spotify.com/v1/albums/3smvpv7CdrhVcGYaNDLOqn',\n",
       "  'id': '3smvpv7CdrhVcGYaNDLOqn',\n",
       "  'images': [{'height': 640,\n",
       "    'url': 'https://i.scdn.co/image/ab67616d0000b273d8559d0280ffe2a2af6dacdf',\n",
       "    'width': 640},\n",
       "   {'height': 300,\n",
       "    'url': 'https://i.scdn.co/image/ab67616d00001e02d8559d0280ffe2a2af6dacdf',\n",
       "    'width': 300},\n",
       "   {'height': 64,\n",
       "    'url': 'https://i.scdn.co/image/ab67616d00004851d8559d0280ffe2a2af6dacdf',\n",
       "    'width': 64}],\n",
       "  'name': 'Despacito Feat. Justin Bieber (Remix)',\n",
       "  'release_date': '2017-04-17',\n",
       "  'release_date_precision': 'day',\n",
       "  'total_tracks': 1,\n",
       "  'type': 'album',\n",
       "  'uri': 'spotify:album:3smvpv7CdrhVcGYaNDLOqn'},\n",
       " 'artists': [{'external_urls': {'spotify': 'https://open.spotify.com/artist/4V8Sr092TqfHkfAA5fXXqG'},\n",
       "   'href': 'https://api.spotify.com/v1/artists/4V8Sr092TqfHkfAA5fXXqG',\n",
       "   'id': '4V8Sr092TqfHkfAA5fXXqG',\n",
       "   'name': 'Luis Fonsi',\n",
       "   'type': 'artist',\n",
       "   'uri': 'spotify:artist:4V8Sr092TqfHkfAA5fXXqG'},\n",
       "  {'external_urls': {'spotify': 'https://open.spotify.com/artist/4VMYDCV2IEDYJArk749S6m'},\n",
       "   'href': 'https://api.spotify.com/v1/artists/4VMYDCV2IEDYJArk749S6m',\n",
       "   'id': '4VMYDCV2IEDYJArk749S6m',\n",
       "   'name': 'Daddy Yankee',\n",
       "   'type': 'artist',\n",
       "   'uri': 'spotify:artist:4VMYDCV2IEDYJArk749S6m'},\n",
       "  {'external_urls': {'spotify': 'https://open.spotify.com/artist/1uNFoZAHBGtllmzznpCI3s'},\n",
       "   'href': 'https://api.spotify.com/v1/artists/1uNFoZAHBGtllmzznpCI3s',\n",
       "   'id': '1uNFoZAHBGtllmzznpCI3s',\n",
       "   'name': 'Justin Bieber',\n",
       "   'type': 'artist',\n",
       "   'uri': 'spotify:artist:1uNFoZAHBGtllmzznpCI3s'}],\n",
       " 'available_markets': [],\n",
       " 'disc_number': 1,\n",
       " 'duration_ms': 228826,\n",
       " 'episode': False,\n",
       " 'explicit': False,\n",
       " 'external_ids': {'isrc': 'USUM71703825'},\n",
       " 'external_urls': {'spotify': 'https://open.spotify.com/track/5CtI0qwDJkDQGwXD1H1cLb'},\n",
       " 'href': 'https://api.spotify.com/v1/tracks/5CtI0qwDJkDQGwXD1H1cLb',\n",
       " 'id': '5CtI0qwDJkDQGwXD1H1cLb',\n",
       " 'is_local': False,\n",
       " 'name': 'Despacito - Remix',\n",
       " 'popularity': 0,\n",
       " 'preview_url': None,\n",
       " 'track': True,\n",
       " 'track_number': 1,\n",
       " 'type': 'track',\n",
       " 'uri': 'spotify:track:5CtI0qwDJkDQGwXD1H1cLb'}"
      ]
     },
     "execution_count": 56,
     "metadata": {},
     "output_type": "execute_result"
    }
   ],
   "source": [
    "data['items'][0]['track']"
   ]
  },
  {
   "cell_type": "code",
   "execution_count": 58,
   "metadata": {},
   "outputs": [],
   "source": [
    "song_list=[]\n",
    "for row in data['items']:\n",
    "    song_id=row['track']['id']\n",
    "    song_name=row['track']['name']\n",
    "    song_duration = row['track']['duration_ms']\n",
    "    song_url = row['track']['external_urls']['spotify']\n",
    "    song_popularity = row['track']['popularity']\n",
    "    song_added = row['added_at']\n",
    "    album_id = row['track']['album']['id']\n",
    "    artist_id = row['track']['album']['artists'][0]['id']\n",
    "    song_element = {'song_id':song_id, 'song_name':song_name, 'duration_ms':song_duration, 'url': song_url, 'popularity':song_popularity, 'song_added':song_added, 'album_id':album_id, 'artist_id': artist_id}\n",
    "    song_list.append(song_element)\n",
    "    \n",
    "    \n"
   ]
  },
  {
   "cell_type": "code",
   "execution_count": 59,
   "metadata": {},
   "outputs": [
    {
     "name": "stdout",
     "output_type": "stream",
     "text": [
      "{'song_id': '3QWjljChcOMkRDYSzF33Qr', 'song_name': 'Whippin (feat. Felix Snow)', 'duration_ms': 160596, 'url': 'https://open.spotify.com/track/3QWjljChcOMkRDYSzF33Qr', 'popularity': 46, 'song_added': '2017-05-17T06:02:52Z', 'album_id': '5PK9tQ7Ou1AvIww8zRn3SL', 'artist_id': '4u5smJBskI6Adzv08PuiUP'}\n"
     ]
    }
   ],
   "source": [
    "print(song_element)"
   ]
  },
  {
   "cell_type": "code",
   "execution_count": 60,
   "metadata": {},
   "outputs": [
    {
     "name": "stdout",
     "output_type": "stream",
     "text": [
      "[{'song_id': '5CtI0qwDJkDQGwXD1H1cLb', 'song_name': 'Despacito - Remix', 'duration_ms': 228826, 'url': 'https://open.spotify.com/track/5CtI0qwDJkDQGwXD1H1cLb', 'popularity': 0, 'song_added': '2017-05-17T06:02:52Z', 'album_id': '3smvpv7CdrhVcGYaNDLOqn', 'artist_id': '4V8Sr092TqfHkfAA5fXXqG'}, {'song_id': '72Q0FQQo32KJloivv5xge2', 'song_name': \"I'm the One\", 'duration_ms': 288876, 'url': 'https://open.spotify.com/track/72Q0FQQo32KJloivv5xge2', 'popularity': 0, 'song_added': '2017-05-17T06:02:52Z', 'album_id': '7mRliFLzSnVPzjO0sSy3ar', 'artist_id': '0QHgL1lAIqAw0HtD7YldmP'}, {'song_id': '7qiZfU4dY1lWllzX7mPBI3', 'song_name': 'Shape of You', 'duration_ms': 233712, 'url': 'https://open.spotify.com/track/7qiZfU4dY1lWllzX7mPBI3', 'popularity': 87, 'song_added': '2017-05-17T06:02:52Z', 'album_id': '3T4tUhGYeRNVUGevb0wThu', 'artist_id': '6eUKZXaKkcviH0Ku9w2n3V'}, {'song_id': '7KXjTSCq5nL1LoYtL7XAwS', 'song_name': 'HUMBLE.', 'duration_ms': 177000, 'url': 'https://open.spotify.com/track/7KXjTSCq5nL1LoYtL7XAwS', 'popularity': 86, 'song_added': '2017-05-17T06:02:52Z', 'album_id': '4eLPsYPBmXABThSJ821sqY', 'artist_id': '2YZyLoL8N0Wb9xBt1NhZWg'}, {'song_id': '3rOSwuTsUlJp0Pu0MkN8r8', 'song_name': 'Mask Off', 'duration_ms': 204600, 'url': 'https://open.spotify.com/track/3rOSwuTsUlJp0Pu0MkN8r8', 'popularity': 48, 'song_added': '2017-05-17T06:02:52Z', 'album_id': '4YtTX4GPvBvewbJvBfXCS2', 'artist_id': '1RyvyyTE3xzB2ZywiAwp0i'}, {'song_id': '6RUKPb4LETWmmr3iAEQktW', 'song_name': 'Something Just Like This', 'duration_ms': 247160, 'url': 'https://open.spotify.com/track/6RUKPb4LETWmmr3iAEQktW', 'popularity': 88, 'song_added': '2017-05-17T06:02:52Z', 'album_id': '4JPguzRps3kuWDD5GS6oXr', 'artist_id': '69GGBxA162lTqCwzJG5jLp'}, {'song_id': '0dA2Mk56wEzDgegdC6R17g', 'song_name': 'Stay (with Alessia Cara)', 'duration_ms': 210090, 'url': 'https://open.spotify.com/track/0dA2Mk56wEzDgegdC6R17g', 'popularity': 0, 'song_added': '2017-05-17T06:02:52Z', 'album_id': '0VMGOBhLrC5Q2bfZnrocVN', 'artist_id': '2qxJFvFYMEDqd7ui6kSAcq'}, {'song_id': '3eR23VReFzcdmS7TYCrhCe', 'song_name': \"It Ain't Me (with Selena Gomez)\", 'duration_ms': 220780, 'url': 'https://open.spotify.com/track/3eR23VReFzcdmS7TYCrhCe', 'popularity': 78, 'song_added': '2017-05-17T06:02:52Z', 'album_id': '0IUCAsckpNyV4wHKIHQawC', 'artist_id': '23fqKkggKUBHNkbKtXEls4'}, {'song_id': '6kex4EBAj0WHXDKZMEJaaF', 'song_name': 'Swalla (feat. Nicki Minaj & Ty Dolla $ign)', 'duration_ms': 216408, 'url': 'https://open.spotify.com/track/6kex4EBAj0WHXDKZMEJaaF', 'popularity': 74, 'song_added': '2017-05-17T06:02:52Z', 'album_id': '2e5CxfyEwBW115beiwh7Mc', 'artist_id': '07YZf4WDAMNwqr4jfgOZ8y'}, {'song_id': '2habSXqcJGExM6JJyskY7O', 'song_name': 'Malibu', 'duration_ms': 231905, 'url': 'https://open.spotify.com/track/2habSXqcJGExM6JJyskY7O', 'popularity': 0, 'song_added': '2017-05-17T06:02:52Z', 'album_id': '7CUczABBlsbd5fqng9mjxo', 'artist_id': '5YGY8feqx7naU7z4HrwZM6'}, {'song_id': '79cuOz3SPQTuFrp8WgftAu', 'song_name': \"There's Nothing Holdin' Me Back\", 'duration_ms': 199440, 'url': 'https://open.spotify.com/track/79cuOz3SPQTuFrp8WgftAu', 'popularity': 1, 'song_added': '2017-05-17T06:02:52Z', 'album_id': '5yYFrOnqG8cEciKnsxHz2r', 'artist_id': '7n2wHs1TKAczGzO7Dd2rGr'}, {'song_id': '0KKkJNfGyhkQ5aFogxQAPU', 'song_name': \"That's What I Like\", 'duration_ms': 206693, 'url': 'https://open.spotify.com/track/0KKkJNfGyhkQ5aFogxQAPU', 'popularity': 88, 'song_added': '2017-05-17T06:02:52Z', 'album_id': '4PgleR09JVnm3zY1fW3XBA', 'artist_id': '0du5cEVh5yTK9QJze8zA0C'}, {'song_id': '1x5sYLZiu9r5E43kMlt9f8', 'song_name': 'Symphony (feat. Zara Larsson)', 'duration_ms': 212459, 'url': 'https://open.spotify.com/track/1x5sYLZiu9r5E43kMlt9f8', 'popularity': 75, 'song_added': '2017-05-17T06:02:52Z', 'album_id': '4b13SJlne61y53KSEwuQtD', 'artist_id': '6MDME20pz9RveH9rEXvrOM'}, {'song_id': '4aWmUDTfIPGksMNLV2rQP2', 'song_name': 'Despacito (Featuring Daddy Yankee)', 'duration_ms': 228200, 'url': 'https://open.spotify.com/track/4aWmUDTfIPGksMNLV2rQP2', 'popularity': 0, 'song_added': '2017-05-17T06:02:52Z', 'album_id': '1HV4uCbhCicfl07dm2WvU0', 'artist_id': '4V8Sr092TqfHkfAA5fXXqG'}, {'song_id': '4iLqG9SeJSnt0cSPICSjxv', 'song_name': 'Attention', 'duration_ms': 211475, 'url': 'https://open.spotify.com/track/4iLqG9SeJSnt0cSPICSjxv', 'popularity': 0, 'song_added': '2017-05-17T06:02:52Z', 'album_id': '0t0NkQulrNkxw2oUZZHboA', 'artist_id': '6VuMaDnrHyPL1p4EHjYLi7'}, {'song_id': '7hDc8b7IXETo14hHIHdnhd', 'song_name': 'Passionfruit', 'duration_ms': 298940, 'url': 'https://open.spotify.com/track/7hDc8b7IXETo14hHIHdnhd', 'popularity': 0, 'song_added': '2017-05-17T06:02:52Z', 'album_id': '7Ix0FS4f1lK42C3rix5rHg', 'artist_id': '3TVXtAsR1Inumwj472S9r4'}, {'song_id': '5Ohxk2dO5COHF1krpoPigN', 'song_name': 'Sign of the Times', 'duration_ms': 340706, 'url': 'https://open.spotify.com/track/5Ohxk2dO5COHF1krpoPigN', 'popularity': 85, 'song_added': '2017-05-17T06:02:52Z', 'album_id': '1FZKIm3JVDCxTchXDo5jOV', 'artist_id': '6KImCVD70vtIoJWnq6nGn3'}, {'song_id': '2eMwDehkIC1j68U6FA3Eiq', 'song_name': 'XO TOUR Llif3', 'duration_ms': 182706, 'url': 'https://open.spotify.com/track/2eMwDehkIC1j68U6FA3Eiq', 'popularity': 0, 'song_added': '2017-05-17T06:02:52Z', 'album_id': '4CZVGlURM8vncG4ftZULTS', 'artist_id': '4O15NlyKLIASxsJ0PrXPfz'}, {'song_id': '2Gl0FzuLxflY6nPifJp5Dr', 'song_name': 'First Time', 'duration_ms': 193511, 'url': 'https://open.spotify.com/track/2Gl0FzuLxflY6nPifJp5Dr', 'popularity': 66, 'song_added': '2017-05-17T06:02:52Z', 'album_id': '6wu7tiTr8zchRG7PWwTOK1', 'artist_id': '23fqKkggKUBHNkbKtXEls4'}, {'song_id': '0qYTZCo5Bwh1nsUFGZP3zn', 'song_name': 'Felices los 4', 'duration_ms': 229848, 'url': 'https://open.spotify.com/track/0qYTZCo5Bwh1nsUFGZP3zn', 'popularity': 0, 'song_added': '2017-05-17T06:02:52Z', 'album_id': '6pFZVwBPXj3m4dyaKcnVev', 'artist_id': '1r4hJ1h58CWwUQe3MxPuau'}, {'song_id': '1F2HXIJrE2Xn81OzT2zZvW', 'song_name': 'Unforgettable', 'duration_ms': 233832, 'url': 'https://open.spotify.com/track/1F2HXIJrE2Xn81OzT2zZvW', 'popularity': 0, 'song_added': '2017-05-17T06:02:52Z', 'album_id': '1udLKdsDr7GRmJU6Cxyt7j', 'artist_id': '6vXTefBL93Dj5IqAWq6OTv'}, {'song_id': '6HZILIRieu8S0iqY8kIKhj', 'song_name': 'DNA.', 'duration_ms': 185946, 'url': 'https://open.spotify.com/track/6HZILIRieu8S0iqY8kIKhj', 'popularity': 81, 'song_added': '2017-05-17T06:02:52Z', 'album_id': '4eLPsYPBmXABThSJ821sqY', 'artist_id': '2YZyLoL8N0Wb9xBt1NhZWg'}, {'song_id': '1sXUWdKx03aP9Gmzft58rt', 'song_name': 'Issues', 'duration_ms': 176346, 'url': 'https://open.spotify.com/track/1sXUWdKx03aP9Gmzft58rt', 'popularity': 0, 'song_added': '2017-05-17T06:02:52Z', 'album_id': '1FulpD9JiAPbqP2F31pmUP', 'artist_id': '0ZED1XzwlLHW4ZaG4lOT6m'}, {'song_id': '3ebXMykcMXOcLeJ9xZ17XH', 'song_name': 'Scared to Be Lonely', 'duration_ms': 220883, 'url': 'https://open.spotify.com/track/3ebXMykcMXOcLeJ9xZ17XH', 'popularity': 78, 'song_added': '2017-05-17T06:02:52Z', 'album_id': '2v9rQe4F8fVSh5v8bAq0jF', 'artist_id': '60d24wfXkVzDSfLS6hyCjZ'}, {'song_id': '0afhq8XCExXpqazXczTSve', 'song_name': 'Galway Girl', 'duration_ms': 170826, 'url': 'https://open.spotify.com/track/0afhq8XCExXpqazXczTSve', 'popularity': 80, 'song_added': '2017-05-17T06:02:52Z', 'album_id': '3T4tUhGYeRNVUGevb0wThu', 'artist_id': '6eUKZXaKkcviH0Ku9w2n3V'}, {'song_id': '6gpcs5eMhJwax4mIfKDYQk', 'song_name': 'Slide (feat. Frank Ocean & Migos)', 'duration_ms': 230813, 'url': 'https://open.spotify.com/track/6gpcs5eMhJwax4mIfKDYQk', 'popularity': 71, 'song_added': '2017-05-17T06:02:52Z', 'album_id': '1UIlzhqJLiA3f6OVw7QKn6', 'artist_id': '7CajNmpbOovFoOoasH2HaY'}, {'song_id': '3a1lNhkSLSkpJE4MSHpDu9', 'song_name': 'Congratulations', 'duration_ms': 220293, 'url': 'https://open.spotify.com/track/3a1lNhkSLSkpJE4MSHpDu9', 'popularity': 83, 'song_added': '2017-05-17T06:02:52Z', 'album_id': '5s0rmjP8XOPhP6HhqOhuyC', 'artist_id': '246dkjvS1zLTtiykXe5h60'}, {'song_id': '1louJpMmzEicAn7lzDalPW', 'song_name': 'No Promises (feat. Demi Lovato)', 'duration_ms': 223503, 'url': 'https://open.spotify.com/track/1louJpMmzEicAn7lzDalPW', 'popularity': 66, 'song_added': '2017-05-17T06:02:52Z', 'album_id': '6301sWkK7hVwcrhcEwKPcH', 'artist_id': '7DMveApC7UnC2NPfPvlHSU'}, {'song_id': '5tz69p7tJuGPeMGwNTxYuV', 'song_name': '1-800-273-8255', 'duration_ms': 250173, 'url': 'https://open.spotify.com/track/5tz69p7tJuGPeMGwNTxYuV', 'popularity': 76, 'song_added': '2017-05-17T06:02:52Z', 'album_id': '1HiN2YXZcc3EjmVZ4WjfBk', 'artist_id': '4xRYI6VqpkE3UwrDrAZL8L'}, {'song_id': '56lBX2WHqfGuoeZxZvUnVj', 'song_name': 'Thunder', 'duration_ms': 187761, 'url': 'https://open.spotify.com/track/56lBX2WHqfGuoeZxZvUnVj', 'popularity': 0, 'song_added': '2017-05-17T06:02:52Z', 'album_id': '0VvK3TRKSJTk2FR4bzCV1w', 'artist_id': '53XhwfbYqKCa1cC15pYq2q'}, {'song_id': '7nKBxz47S9SD79N086fuhn', 'song_name': 'SUBEME LA RADIO', 'duration_ms': 207680, 'url': 'https://open.spotify.com/track/7nKBxz47S9SD79N086fuhn', 'popularity': 70, 'song_added': '2017-05-17T06:02:52Z', 'album_id': '2Ib7wM5qXKXDzZFhzNQ7TG', 'artist_id': '7qG3b048QCHVRO5Pv1T5lw'}, {'song_id': '39IsH7B5byx8NRlEKlZVg9', 'song_name': 'Pretty Girl - Cheat Codes X CADE Remix', 'duration_ms': 193613, 'url': 'https://open.spotify.com/track/39IsH7B5byx8NRlEKlZVg9', 'popularity': 57, 'song_added': '2017-05-17T06:02:52Z', 'album_id': '6jO7hs4GsF6924w10xQTyA', 'artist_id': '0uGk2czvcpWQA383Im6ajf'}, {'song_id': '6Zosz8w6CmdGMZM6p4JlbQ', 'song_name': 'Me Rehúso', 'duration_ms': 205741, 'url': 'https://open.spotify.com/track/6Zosz8w6CmdGMZM6p4JlbQ', 'popularity': 0, 'song_added': '2017-05-17T06:02:52Z', 'album_id': '6qIOlt2SVkfs9NynvpaQ1j', 'artist_id': '5H1nN1SzW0qNeUEZvuXjAj'}, {'song_id': '51PIvodunv6NmX5250zxAh', 'song_name': 'The Cure', 'duration_ms': 211363, 'url': 'https://open.spotify.com/track/51PIvodunv6NmX5250zxAh', 'popularity': 0, 'song_added': '2017-05-17T06:02:52Z', 'album_id': '7Bh5oQckPzHqO7GHVGY5LE', 'artist_id': '1HY2Jd0NmPuamShAr6KMms'}, {'song_id': '2EEeOnHehOozLq4aS0n6SL', 'song_name': 'iSpy (feat. Lil Yachty)', 'duration_ms': 253106, 'url': 'https://open.spotify.com/track/2EEeOnHehOozLq4aS0n6SL', 'popularity': 71, 'song_added': '2017-05-17T06:02:52Z', 'album_id': '15qLmAABocTCRBSbWWqL7K', 'artist_id': '4qBgvVog0wzW75IQ48mU7v'}, {'song_id': '1Eck97uRMlprKOOJN9oO1E', 'song_name': 'Good Life (with G-Eazy & Kehlani)', 'duration_ms': 225525, 'url': 'https://open.spotify.com/track/1Eck97uRMlprKOOJN9oO1E', 'popularity': 57, 'song_added': '2017-05-17T06:02:52Z', 'album_id': '5PO2cqkBjAUOSHdxSDJOL4', 'artist_id': '02kJSzxNuaWGqwubyUba0Z'}, {'song_id': '1mDGDb2fUmUMdqV3tb8VKQ', 'song_name': 'Now Or Never', 'duration_ms': 214801, 'url': 'https://open.spotify.com/track/1mDGDb2fUmUMdqV3tb8VKQ', 'popularity': 0, 'song_added': '2017-05-17T06:02:52Z', 'album_id': '2wSBV9N0cNgaDc5X3ljnVo', 'artist_id': '26VFTg2z8YR0cCuwLzESi2'}, {'song_id': '6VRghJeP6I0w1KxkdWFfIh', 'song_name': 'Believer', 'duration_ms': 203782, 'url': 'https://open.spotify.com/track/6VRghJeP6I0w1KxkdWFfIh', 'popularity': 0, 'song_added': '2017-05-17T06:02:52Z', 'album_id': '3KzCJaaRVza9FnSsqtAFeO', 'artist_id': '53XhwfbYqKCa1cC15pYq2q'}, {'song_id': '152lZdxL1OR0ZMW6KquMif', 'song_name': 'Location', 'duration_ms': 219080, 'url': 'https://open.spotify.com/track/152lZdxL1OR0ZMW6KquMif', 'popularity': 78, 'song_added': '2017-05-17T06:02:52Z', 'album_id': '6kf46HbnYCZzP6rjvQHYzg', 'artist_id': '6LuN9FCkKOj5PcnpouEgny'}, {'song_id': '5knuzwU65gJK7IF5yJsuaW', 'song_name': 'Rockabye (feat. Sean Paul & Anne-Marie)', 'duration_ms': 251088, 'url': 'https://open.spotify.com/track/5knuzwU65gJK7IF5yJsuaW', 'popularity': 75, 'song_added': '2017-05-17T06:02:52Z', 'album_id': '3meZFplbMmji648oWUNEfQ', 'artist_id': '6MDME20pz9RveH9rEXvrOM'}, {'song_id': '72jbDTw1piOOj770jWNeaG', 'song_name': 'Paris', 'duration_ms': 221506, 'url': 'https://open.spotify.com/track/72jbDTw1piOOj770jWNeaG', 'popularity': 76, 'song_added': '2017-05-17T06:02:52Z', 'album_id': '4JPguzRps3kuWDD5GS6oXr', 'artist_id': '69GGBxA162lTqCwzJG5jLp'}, {'song_id': '78rIJddV4X0HkNAInEcYde', 'song_name': 'Call On Me - Ryan Riback Extended Remix', 'duration_ms': 222040, 'url': 'https://open.spotify.com/track/78rIJddV4X0HkNAInEcYde', 'popularity': 41, 'song_added': '2017-05-17T06:02:52Z', 'album_id': '4pZbAcipxqdFcwjiFkuwes', 'artist_id': '02A3cEvlLLCbIMVDrK2GHV'}, {'song_id': '3FDrI0FLKzrYQiWxPhqV2W', 'song_name': 'Rollin (feat. Future & Khalid)', 'duration_ms': 272666, 'url': 'https://open.spotify.com/track/3FDrI0FLKzrYQiWxPhqV2W', 'popularity': 57, 'song_added': '2017-05-17T06:02:52Z', 'album_id': '6nt2urfBROkUQWnzpSOohu', 'artist_id': '7CajNmpbOovFoOoasH2HaY'}, {'song_id': '3NdDpSvN911VPGivFlV5d0', 'song_name': 'I Don’t Wanna Live Forever (Fifty Shades Darker) - From \"Fifty Shades Darker (Original Motion Picture Soundtrack)\"', 'duration_ms': 245200, 'url': 'https://open.spotify.com/track/3NdDpSvN911VPGivFlV5d0', 'popularity': 0, 'song_added': '2017-05-17T06:02:52Z', 'album_id': '5MxXY7DbFMUiHFTPUabgJJ', 'artist_id': '5ZsFI1h6hIdQRw2ti0hz81'}, {'song_id': '5NNlUMcOEOdoOIwwaWXv0k', 'song_name': 'Cold', 'duration_ms': 234308, 'url': 'https://open.spotify.com/track/5NNlUMcOEOdoOIwwaWXv0k', 'popularity': 0, 'song_added': '2017-05-17T06:02:52Z', 'album_id': '7oYKSApfrPWuKk8aH6rH7t', 'artist_id': '04gDigrS5kc9YWfZHwBETP'}, {'song_id': '6PGoSes0D9eUDeeAafB2As', 'song_name': 'LOVE. FEAT. ZACARI.', 'duration_ms': 213400, 'url': 'https://open.spotify.com/track/6PGoSes0D9eUDeeAafB2As', 'popularity': 85, 'song_added': '2017-05-17T06:02:52Z', 'album_id': '4eLPsYPBmXABThSJ821sqY', 'artist_id': '2YZyLoL8N0Wb9xBt1NhZWg'}, {'song_id': '5GXAXm5YOmYT0kL5jHvYBt', 'song_name': 'I Feel It Coming', 'duration_ms': 269186, 'url': 'https://open.spotify.com/track/5GXAXm5YOmYT0kL5jHvYBt', 'popularity': 78, 'song_added': '2017-05-17T06:02:52Z', 'album_id': '4AdZV63ycxFLF6Hcol0QnB', 'artist_id': '1Xyo4u8uXC1ZmMpatF05PJ'}, {'song_id': '3umS4y3uQDkqekNjVpiRUs', 'song_name': 'El Amante', 'duration_ms': 219506, 'url': 'https://open.spotify.com/track/3umS4y3uQDkqekNjVpiRUs', 'popularity': 70, 'song_added': '2017-05-17T06:02:52Z', 'album_id': '2dBgWXp41imu2zBNv9oFxZ', 'artist_id': '1SupJlEpv7RS2tPNRaHViT'}, {'song_id': '4WrS6vezaPwOafKJmHqMEU', 'song_name': \"You Don't Know Me - Radio Edit\", 'duration_ms': 211935, 'url': 'https://open.spotify.com/track/4WrS6vezaPwOafKJmHqMEU', 'popularity': 0, 'song_added': '2017-05-17T06:02:52Z', 'album_id': '5pnuFhf3CzEEscRgST09H5', 'artist_id': '4Q6nIcaBED8qUel8bBx6Cr'}, {'song_id': '167NczpNbRF7oWakJaY3Hh', 'song_name': 'Slow Hands', 'duration_ms': 188174, 'url': 'https://open.spotify.com/track/167NczpNbRF7oWakJaY3Hh', 'popularity': 0, 'song_added': '2017-05-17T06:02:52Z', 'album_id': '7BJ02LuWRn3RH7yDHZAJr2', 'artist_id': '1Hsdzj7Dlq2I7tHP7501T4'}, {'song_id': '6HUnnBwYZqcED1eQztxMBN', 'song_name': 'Solo Dance', 'duration_ms': 174933, 'url': 'https://open.spotify.com/track/6HUnnBwYZqcED1eQztxMBN', 'popularity': 0, 'song_added': '2017-05-17T06:02:52Z', 'album_id': '3BcNHuKlAm57APDcwh7LJq', 'artist_id': '4ehtJnVumNf6xzSCDk8aLB'}, {'song_id': '14oOKFGuXu8DqvOe1W8vao', 'song_name': 'Bon Appétit', 'duration_ms': 227292, 'url': 'https://open.spotify.com/track/14oOKFGuXu8DqvOe1W8vao', 'popularity': 0, 'song_added': '2017-05-17T06:02:52Z', 'album_id': '0PUhdd2AlyEACcz4f0RiiK', 'artist_id': '6jJ0s89eD6GaHleKKya26X'}, {'song_id': '2cnKEkpVUSV4wnjQiTWfH6', 'song_name': 'Escápate Conmigo (feat. Ozuna)', 'duration_ms': 232786, 'url': 'https://open.spotify.com/track/2cnKEkpVUSV4wnjQiTWfH6', 'popularity': 0, 'song_added': '2017-05-17T06:02:52Z', 'album_id': '5uWJP1QRmJemAFD3JH2LOG', 'artist_id': '3E6xrwgnVfYCrCs0ePERDz'}, {'song_id': '5uCax9HTNlzGybIStD3vDh', 'song_name': \"Say You Won't Let Go\", 'duration_ms': 211466, 'url': 'https://open.spotify.com/track/5uCax9HTNlzGybIStD3vDh', 'popularity': 88, 'song_added': '2017-05-17T06:02:52Z', 'album_id': '7oiJYvEJHsmYtrgviAVIBD', 'artist_id': '4IWBUUAFIplrNtaOHcJPRM'}, {'song_id': '2bjwRfXMk4uRgOD9IBYl9h', 'song_name': 'Portland', 'duration_ms': 236614, 'url': 'https://open.spotify.com/track/2bjwRfXMk4uRgOD9IBYl9h', 'popularity': 73, 'song_added': '2017-05-17T06:02:52Z', 'album_id': '1lXY618HWkwYKJWBRYR4MK', 'artist_id': '3TVXtAsR1Inumwj472S9r4'}, {'song_id': '6SwRhMLwNqEi6alNPVG00n', 'song_name': 'LOYALTY. FEAT. RIHANNA.', 'duration_ms': 227360, 'url': 'https://open.spotify.com/track/6SwRhMLwNqEi6alNPVG00n', 'popularity': 79, 'song_added': '2017-05-17T06:02:52Z', 'album_id': '4eLPsYPBmXABThSJ821sqY', 'artist_id': '2YZyLoL8N0Wb9xBt1NhZWg'}, {'song_id': '22eADXu8DfOAUEDw4vU8qy', 'song_name': 'Ahora Dice', 'duration_ms': 271080, 'url': 'https://open.spotify.com/track/22eADXu8DfOAUEDw4vU8qy', 'popularity': 0, 'song_added': '2017-05-17T06:02:52Z', 'album_id': '6UzYYTKQHXXNH67rawar3X', 'artist_id': '0qTZZWLzuD59Un5r1speHm'}, {'song_id': '6mORGLOz79w6VsCRLWYYuK', 'song_name': 'The Night We Met', 'duration_ms': 208211, 'url': 'https://open.spotify.com/track/6mORGLOz79w6VsCRLWYYuK', 'popularity': 0, 'song_added': '2017-05-17T06:02:52Z', 'album_id': '1SUC3BzNqa5Kna2bZAsAK8', 'artist_id': '6ltzsmQQbmdoHHbLZ4ZN25'}, {'song_id': '5c4tB0saSkNHX5CyDosuF7', 'song_name': 'Tuesday (feat. Danelle Sandoval)', 'duration_ms': 241874, 'url': 'https://open.spotify.com/track/5c4tB0saSkNHX5CyDosuF7', 'popularity': 0, 'song_added': '2017-05-17T06:02:52Z', 'album_id': '12R3FRl2DbibkbOuXwXvxp', 'artist_id': '4ON1ruy5ijE7ZPQthbrkgI'}, {'song_id': '2Vdub5mY4lad7w64bFPUez', 'song_name': 'Hey Ma (with Pitbull & J Balvin feat. Camila Cabello)', 'duration_ms': 194941, 'url': 'https://open.spotify.com/track/2Vdub5mY4lad7w64bFPUez', 'popularity': 53, 'song_added': '2017-05-17T06:02:52Z', 'album_id': '620wwdsvJGaC4uh8Fj416Y', 'artist_id': '0TnOYISbd1XYRBk9myaseg'}, {'song_id': '5kRPPEWFJIMox5qIkQkiz5', 'song_name': 'Sweet Creature', 'duration_ms': 224866, 'url': 'https://open.spotify.com/track/5kRPPEWFJIMox5qIkQkiz5', 'popularity': 75, 'song_added': '2017-05-17T06:02:52Z', 'album_id': '1FZKIm3JVDCxTchXDo5jOV', 'artist_id': '6KImCVD70vtIoJWnq6nGn3'}, {'song_id': '7BKLCZ1jbUBVqRi2FVlTVw', 'song_name': 'Closer', 'duration_ms': 244960, 'url': 'https://open.spotify.com/track/7BKLCZ1jbUBVqRi2FVlTVw', 'popularity': 86, 'song_added': '2017-05-17T06:02:52Z', 'album_id': '0rSLgV8p5FzfnqlEk4GzxE', 'artist_id': '69GGBxA162lTqCwzJG5jLp'}, {'song_id': '6PCUP3dWmTjcTtXY02oFdT', 'song_name': 'Castle on the Hill', 'duration_ms': 261153, 'url': 'https://open.spotify.com/track/6PCUP3dWmTjcTtXY02oFdT', 'popularity': 80, 'song_added': '2017-05-17T06:02:52Z', 'album_id': '3T4tUhGYeRNVUGevb0wThu', 'artist_id': '6eUKZXaKkcviH0Ku9w2n3V'}, {'song_id': '4Q3N4Ct4zCuIHuZ65E3BD4', 'song_name': 'Tunnel Vision', 'duration_ms': 268186, 'url': 'https://open.spotify.com/track/4Q3N4Ct4zCuIHuZ65E3BD4', 'popularity': 74, 'song_added': '2017-05-17T06:02:52Z', 'album_id': '5mG8oNkNKM2my7t9ywra96', 'artist_id': '46SHBwWsqBkxI7EeeBEQG7'}, {'song_id': '000xQL6tZNLJzIrtIgxqSl', 'song_name': 'Still Got Time (feat. PARTYNEXTDOOR)', 'duration_ms': 188490, 'url': 'https://open.spotify.com/track/000xQL6tZNLJzIrtIgxqSl', 'popularity': 57, 'song_added': '2017-05-17T06:02:52Z', 'album_id': '2kGUeTGnkLOYlinKRJe47G', 'artist_id': '5ZsFI1h6hIdQRw2ti0hz81'}, {'song_id': '1EaKU4dMbesXXd3BrLCtYG', 'song_name': 'ELEMENT.', 'duration_ms': 208733, 'url': 'https://open.spotify.com/track/1EaKU4dMbesXXd3BrLCtYG', 'popularity': 71, 'song_added': '2017-05-17T06:02:52Z', 'album_id': '4eLPsYPBmXABThSJ821sqY', 'artist_id': '2YZyLoL8N0Wb9xBt1NhZWg'}, {'song_id': '2mfUa8bLs2s5N4VaqJZ4lZ', 'song_name': 'Most Girls', 'duration_ms': 204400, 'url': 'https://open.spotify.com/track/2mfUa8bLs2s5N4VaqJZ4lZ', 'popularity': 0, 'song_added': '2017-05-17T06:02:52Z', 'album_id': '4D6OyZ4Q57vH7gul8PVzTv', 'artist_id': '5p7f24Rk5HkUZsaS3BLG5F'}, {'song_id': '1WniHvhq9zTkny0WvGXX8o', 'song_name': 'Chantaje', 'duration_ms': 195612, 'url': 'https://open.spotify.com/track/1WniHvhq9zTkny0WvGXX8o', 'popularity': 0, 'song_added': '2017-05-17T06:02:52Z', 'album_id': '3EwBqZP15qaDl3B6DuWXZ7', 'artist_id': '0EmeFodog0BfCgMzAIvKQp'}, {'song_id': '6gBFPUFcJLzWGx4lenP6h2', 'song_name': 'goosebumps', 'duration_ms': 243836, 'url': 'https://open.spotify.com/track/6gBFPUFcJLzWGx4lenP6h2', 'popularity': 88, 'song_added': '2017-05-17T06:02:52Z', 'album_id': '42WVQWuf1teDysXiOupIZt', 'artist_id': '0Y5tJX1MQlPlqiwlOH1tJY'}, {'song_id': '5aAx2yezTd8zXrkmtKl66Z', 'song_name': 'Starboy', 'duration_ms': 230453, 'url': 'https://open.spotify.com/track/5aAx2yezTd8zXrkmtKl66Z', 'popularity': 34, 'song_added': '2017-05-17T06:02:52Z', 'album_id': '09fggMHib4YkOtwQNXEBII', 'artist_id': '1Xyo4u8uXC1ZmMpatF05PJ'}, {'song_id': '2Ce5IyMlVRVvN997ZJjJJA', 'song_name': 'Selfish (feat. Rihanna)', 'duration_ms': 251422, 'url': 'https://open.spotify.com/track/2Ce5IyMlVRVvN997ZJjJJA', 'popularity': 17, 'song_added': '2017-05-17T06:02:52Z', 'album_id': '1P8NvRvykmDrKyfglMerMv', 'artist_id': '1RyvyyTE3xzB2ZywiAwp0i'}, {'song_id': '6qDF4wWL49CAVbgT7yuHl8', 'song_name': 'Sigo Extrañándote', 'duration_ms': 201280, 'url': 'https://open.spotify.com/track/6qDF4wWL49CAVbgT7yuHl8', 'popularity': 0, 'song_added': '2017-05-17T06:02:52Z', 'album_id': '2LYwooMTH1iJeBvWyXXWUf', 'artist_id': '1vyhD5VmyZ7KMfW5gqLgo5'}, {'song_id': '0tgVpDi06FyKpA1z0VMD4v', 'song_name': 'Perfect', 'duration_ms': 263400, 'url': 'https://open.spotify.com/track/0tgVpDi06FyKpA1z0VMD4v', 'popularity': 88, 'song_added': '2017-05-17T06:02:52Z', 'album_id': '3T4tUhGYeRNVUGevb0wThu', 'artist_id': '6eUKZXaKkcviH0Ku9w2n3V'}, {'song_id': '4Km5HrUvYTaSUfiSGPJeQR', 'song_name': 'Bad and Boujee (feat. Lil Uzi Vert)', 'duration_ms': 343150, 'url': 'https://open.spotify.com/track/4Km5HrUvYTaSUfiSGPJeQR', 'popularity': 1, 'song_added': '2017-05-17T06:02:52Z', 'album_id': '2AvupjUeMnSffKEV05x222', 'artist_id': '6oMuImdp5ZcFhWP0ESe6mG'}, {'song_id': '1xznGGDReH1oQq0xzbwXa3', 'song_name': 'One Dance', 'duration_ms': 173986, 'url': 'https://open.spotify.com/track/1xznGGDReH1oQq0xzbwXa3', 'popularity': 34, 'song_added': '2017-05-17T06:02:52Z', 'album_id': '3hARKC8cinq3mZLLAEaBh9', 'artist_id': '3TVXtAsR1Inumwj472S9r4'}, {'song_id': '7mldq42yDuxiUNn08nvzHO', 'song_name': 'Body Like A Back Road', 'duration_ms': 165386, 'url': 'https://open.spotify.com/track/7mldq42yDuxiUNn08nvzHO', 'popularity': 70, 'song_added': '2017-05-17T06:02:52Z', 'album_id': '2N7kidh1wA9EoLdf16QWrz', 'artist_id': '2kucQ9jQwuD8jWdtR9Ef38'}, {'song_id': '0FuTx2s3YH1ppmtiM6l0zI', 'song_name': 'September Song', 'duration_ms': 220290, 'url': 'https://open.spotify.com/track/0FuTx2s3YH1ppmtiM6l0zI', 'popularity': 0, 'song_added': '2017-05-17T06:02:52Z', 'album_id': '4PtHrEv5SyIVsdbMKi6Vkg', 'artist_id': '4kYGAK2zu9EAomwj3hXkXy'}, {'song_id': '209gZgcfLq2aUuu51vOWBl', 'song_name': 'Hey DJ', 'duration_ms': 205520, 'url': 'https://open.spotify.com/track/209gZgcfLq2aUuu51vOWBl', 'popularity': 0, 'song_added': '2017-05-17T06:02:52Z', 'album_id': '3spLScHh3MUrplyauEMtWI', 'artist_id': '0eecdvMrqBftK0M1VKhaF4'}, {'song_id': '5ndfVSDyPq90jaIUhNPeby', 'song_name': 'Chained To The Rhythm', 'duration_ms': 237915, 'url': 'https://open.spotify.com/track/5ndfVSDyPq90jaIUhNPeby', 'popularity': 0, 'song_added': '2017-05-17T06:02:52Z', 'album_id': '1VIX8YDyQOaUhWpHhP6Ttu', 'artist_id': '6jJ0s89eD6GaHleKKya26X'}, {'song_id': '343YBumqHu19cGoGARUTsd', 'song_name': 'Fake Love', 'duration_ms': 210937, 'url': 'https://open.spotify.com/track/343YBumqHu19cGoGARUTsd', 'popularity': 74, 'song_added': '2017-05-17T06:02:52Z', 'album_id': '1lXY618HWkwYKJWBRYR4MK', 'artist_id': '3TVXtAsR1Inumwj472S9r4'}, {'song_id': '0wfbD5rAksdXUzRvMfM3x5', 'song_name': 'The One', 'duration_ms': 177573, 'url': 'https://open.spotify.com/track/0wfbD5rAksdXUzRvMfM3x5', 'popularity': 57, 'song_added': '2017-05-17T06:02:52Z', 'album_id': '4JPguzRps3kuWDD5GS6oXr', 'artist_id': '69GGBxA162lTqCwzJG5jLp'}, {'song_id': '0SGkqnVQo9KPytSri1H6cF', 'song_name': 'Bounce Back', 'duration_ms': 222360, 'url': 'https://open.spotify.com/track/0SGkqnVQo9KPytSri1H6cF', 'popularity': 69, 'song_added': '2017-05-17T06:02:52Z', 'album_id': '0XAIjjN5qxViVS0Y5fYkar', 'artist_id': '0c173mlxpT3dSFRgMO8XPh'}, {'song_id': '6p8NuHm8uCGnn2Dtbtf7zE', 'song_name': 'Slippery (feat. Gucci Mane)', 'duration_ms': 304041, 'url': 'https://open.spotify.com/track/6p8NuHm8uCGnn2Dtbtf7zE', 'popularity': 3, 'song_added': '2017-05-17T06:02:52Z', 'album_id': '2AvupjUeMnSffKEV05x222', 'artist_id': '6oMuImdp5ZcFhWP0ESe6mG'}, {'song_id': '4pdPtRcBmOSQDlJ3Fk945m', 'song_name': 'Let Me Love You', 'duration_ms': 205946, 'url': 'https://open.spotify.com/track/4pdPtRcBmOSQDlJ3Fk945m', 'popularity': 7, 'song_added': '2017-05-17T06:02:52Z', 'album_id': '55bbXORm6ZrVq52zfZnxBf', 'artist_id': '540vIaP2JwjQb9dm3aArA4'}, {'song_id': '3QwBODjSEzelZyVjxPOHdq', 'song_name': 'Otra vez (feat. J Balvin)', 'duration_ms': 209453, 'url': 'https://open.spotify.com/track/3QwBODjSEzelZyVjxPOHdq', 'popularity': 76, 'song_added': '2017-05-17T06:02:52Z', 'album_id': '22lEQJ7khtB2yvsq84FDQb', 'artist_id': '21451j1KhjAiaYKflxBjr1'}, {'song_id': '5Ua3GXyHwiSfpNTMjq6m2z', 'song_name': 'Touch', 'duration_ms': 213306, 'url': 'https://open.spotify.com/track/5Ua3GXyHwiSfpNTMjq6m2z', 'popularity': 0, 'song_added': '2017-05-17T06:02:52Z', 'album_id': '2GJLzxAajkFeyDPVH7X4Cs', 'artist_id': '3e7awlrlDSwF3iM0WBjGMp'}, {'song_id': '7floNISpH8VF4z4459Qo18', 'song_name': 'Look At Me!', 'duration_ms': 126345, 'url': 'https://open.spotify.com/track/7floNISpH8VF4z4459Qo18', 'popularity': 81, 'song_added': '2017-05-17T06:02:52Z', 'album_id': '3cyyJALrHc8LawnQNFYRWL', 'artist_id': '15UsOTVnJzReFVN1VCnxy4'}, {'song_id': '6CUBgX8bXC5YQCkdgRHqyg', 'song_name': 'do re mi', 'duration_ms': 212027, 'url': 'https://open.spotify.com/track/6CUBgX8bXC5YQCkdgRHqyg', 'popularity': 0, 'song_added': '2017-05-17T06:02:52Z', 'album_id': '2l3HIzSVnACXyTc2SduFOI', 'artist_id': '2cFrymmkijnjDg9SS92EPM'}, {'song_id': '4okba5wu9mMLXx79DXLKi3', 'song_name': 'La Rompe Corazones', 'duration_ms': 204520, 'url': 'https://open.spotify.com/track/4okba5wu9mMLXx79DXLKi3', 'popularity': 0, 'song_added': '2017-05-17T06:02:52Z', 'album_id': '7pyHLzYSyH7A4VW3tOFxNk', 'artist_id': '4VMYDCV2IEDYJArk749S6m'}, {'song_id': '4Q5yMlwAfAoitqg4r9oZHN', 'song_name': 'Quit (feat. Ariana Grande)', 'duration_ms': 258188, 'url': 'https://open.spotify.com/track/4Q5yMlwAfAoitqg4r9oZHN', 'popularity': 0, 'song_added': '2017-05-17T06:02:52Z', 'album_id': '0JjoGwsBjce2mgHRliH0VN', 'artist_id': '2LZDXcxJWgsJfKXZv9a5eG'}, {'song_id': '6XOYVSmNDjKUNMXooU4s4z', 'song_name': 'No Vacancy', 'duration_ms': 223189, 'url': 'https://open.spotify.com/track/6XOYVSmNDjKUNMXooU4s4z', 'popularity': 0, 'song_added': '2017-05-17T06:02:52Z', 'album_id': '7GxsxPFTZANnpsAONtZlHQ', 'artist_id': '5Pwc4xIPtQLFEnJriah9YJ'}, {'song_id': '1qOLh0tI7trd1zdDKxYZTe', 'song_name': 'Starving', 'duration_ms': 181880, 'url': 'https://open.spotify.com/track/1qOLh0tI7trd1zdDKxYZTe', 'popularity': 0, 'song_added': '2017-05-17T06:02:52Z', 'album_id': '3Nuw6arrA8kVwhIvyGbiku', 'artist_id': '5p7f24Rk5HkUZsaS3BLG5F'}, {'song_id': '6OuV4vfyb8v3vGGGksqyKf', 'song_name': 'Weak', 'duration_ms': 202193, 'url': 'https://open.spotify.com/track/6OuV4vfyb8v3vGGGksqyKf', 'popularity': 21, 'song_added': '2017-05-17T06:02:52Z', 'album_id': '64ph8p01P5H46Cs149uNyc', 'artist_id': '6s22t5Y3prQHyaHWUN1R1C'}, {'song_id': '3kxfsdsCpFgN412fpnW85Y', 'song_name': 'Redbone', 'duration_ms': 326933, 'url': 'https://open.spotify.com/track/3kxfsdsCpFgN412fpnW85Y', 'popularity': 0, 'song_added': '2017-05-17T06:02:52Z', 'album_id': '4xnq1L6P551Qcb9gBXNMK7', 'artist_id': '73sIBHcqh3Z3NyqHKZ7FOL'}, {'song_id': '1WC5UN1U79gJlxGLYDGIO7', 'song_name': 'Green Light', 'duration_ms': 234661, 'url': 'https://open.spotify.com/track/1WC5UN1U79gJlxGLYDGIO7', 'popularity': 0, 'song_added': '2017-05-17T06:02:52Z', 'album_id': '3Jvd3wjRENrLxPgUxQ5Exz', 'artist_id': '163tK9Wjr9P9DmM0AVK7lm'}, {'song_id': '6b8Be6ljOzmkOmFslEb23P', 'song_name': '24K Magic', 'duration_ms': 225983, 'url': 'https://open.spotify.com/track/6b8Be6ljOzmkOmFslEb23P', 'popularity': 81, 'song_added': '2017-05-17T06:02:52Z', 'album_id': '4PgleR09JVnm3zY1fW3XBA', 'artist_id': '0du5cEVh5yTK9QJze8zA0C'}, {'song_id': '0Szp49tpFasIjX04Mcsydp', 'song_name': 'Tu Foto', 'duration_ms': 193117, 'url': 'https://open.spotify.com/track/0Szp49tpFasIjX04Mcsydp', 'popularity': 0, 'song_added': '2017-05-17T06:02:52Z', 'album_id': '3NzslyWsrSJXTNNZbQMBWS', 'artist_id': '1i8SpTcr7yvPOmcqrbnVXY'}, {'song_id': '7KOlJ92bu51cltsD9KU5I7', 'song_name': 'T-Shirt', 'duration_ms': 242407, 'url': 'https://open.spotify.com/track/7KOlJ92bu51cltsD9KU5I7', 'popularity': 1, 'song_added': '2017-05-17T06:02:52Z', 'album_id': '2AvupjUeMnSffKEV05x222', 'artist_id': '6oMuImdp5ZcFhWP0ESe6mG'}, {'song_id': '5q2JbCNi4FcnglgPfxcV65', 'song_name': 'Sola (Remix)', 'duration_ms': 307910, 'url': 'https://open.spotify.com/track/5q2JbCNi4FcnglgPfxcV65', 'popularity': 77, 'song_added': '2017-05-17T06:02:52Z', 'album_id': '2ucmNNr2Y9ZI7fP4oAMdIj', 'artist_id': '2R21vXR83lH98kGeO99Y66'}, {'song_id': '3QWjljChcOMkRDYSzF33Qr', 'song_name': 'Whippin (feat. Felix Snow)', 'duration_ms': 160596, 'url': 'https://open.spotify.com/track/3QWjljChcOMkRDYSzF33Qr', 'popularity': 46, 'song_added': '2017-05-17T06:02:52Z', 'album_id': '5PK9tQ7Ou1AvIww8zRn3SL', 'artist_id': '4u5smJBskI6Adzv08PuiUP'}]\n"
     ]
    }
   ],
   "source": [
    "print(song_list)"
   ]
  },
  {
   "cell_type": "code",
   "execution_count": 61,
   "metadata": {},
   "outputs": [],
   "source": [
    "import pandas as pd"
   ]
  },
  {
   "cell_type": "code",
   "execution_count": 62,
   "metadata": {},
   "outputs": [],
   "source": [
    "album_df= pd.DataFrame.from_dict(album_list)"
   ]
  },
  {
   "cell_type": "code",
   "execution_count": 63,
   "metadata": {},
   "outputs": [
    {
     "data": {
      "text/html": [
       "<div>\n",
       "<style scoped>\n",
       "    .dataframe tbody tr th:only-of-type {\n",
       "        vertical-align: middle;\n",
       "    }\n",
       "\n",
       "    .dataframe tbody tr th {\n",
       "        vertical-align: top;\n",
       "    }\n",
       "\n",
       "    .dataframe thead th {\n",
       "        text-align: right;\n",
       "    }\n",
       "</style>\n",
       "<table border=\"1\" class=\"dataframe\">\n",
       "  <thead>\n",
       "    <tr style=\"text-align: right;\">\n",
       "      <th></th>\n",
       "      <th>album_id</th>\n",
       "      <th>name</th>\n",
       "      <th>release_date</th>\n",
       "      <th>total_tracks</th>\n",
       "      <th>url</th>\n",
       "    </tr>\n",
       "  </thead>\n",
       "  <tbody>\n",
       "    <tr>\n",
       "      <th>0</th>\n",
       "      <td>3smvpv7CdrhVcGYaNDLOqn</td>\n",
       "      <td>Despacito Feat. Justin Bieber (Remix)</td>\n",
       "      <td>2017-04-17</td>\n",
       "      <td>1</td>\n",
       "      <td>https://open.spotify.com/album/3smvpv7CdrhVcGY...</td>\n",
       "    </tr>\n",
       "    <tr>\n",
       "      <th>1</th>\n",
       "      <td>7mRliFLzSnVPzjO0sSy3ar</td>\n",
       "      <td>I'm the One</td>\n",
       "      <td>2017-04-27</td>\n",
       "      <td>1</td>\n",
       "      <td>https://open.spotify.com/album/7mRliFLzSnVPzjO...</td>\n",
       "    </tr>\n",
       "    <tr>\n",
       "      <th>2</th>\n",
       "      <td>3T4tUhGYeRNVUGevb0wThu</td>\n",
       "      <td>÷ (Deluxe)</td>\n",
       "      <td>2017-03-03</td>\n",
       "      <td>16</td>\n",
       "      <td>https://open.spotify.com/album/3T4tUhGYeRNVUGe...</td>\n",
       "    </tr>\n",
       "    <tr>\n",
       "      <th>3</th>\n",
       "      <td>4eLPsYPBmXABThSJ821sqY</td>\n",
       "      <td>DAMN.</td>\n",
       "      <td>2017-04-14</td>\n",
       "      <td>14</td>\n",
       "      <td>https://open.spotify.com/album/4eLPsYPBmXABThS...</td>\n",
       "    </tr>\n",
       "    <tr>\n",
       "      <th>4</th>\n",
       "      <td>4YtTX4GPvBvewbJvBfXCS2</td>\n",
       "      <td>FUTURE</td>\n",
       "      <td>2017-08-04</td>\n",
       "      <td>17</td>\n",
       "      <td>https://open.spotify.com/album/4YtTX4GPvBvewbJ...</td>\n",
       "    </tr>\n",
       "  </tbody>\n",
       "</table>\n",
       "</div>"
      ],
      "text/plain": [
       "                 album_id                                   name release_date   \n",
       "0  3smvpv7CdrhVcGYaNDLOqn  Despacito Feat. Justin Bieber (Remix)   2017-04-17  \\\n",
       "1  7mRliFLzSnVPzjO0sSy3ar                            I'm the One   2017-04-27   \n",
       "2  3T4tUhGYeRNVUGevb0wThu                             ÷ (Deluxe)   2017-03-03   \n",
       "3  4eLPsYPBmXABThSJ821sqY                                  DAMN.   2017-04-14   \n",
       "4  4YtTX4GPvBvewbJvBfXCS2                                 FUTURE   2017-08-04   \n",
       "\n",
       "   total_tracks                                                url  \n",
       "0             1  https://open.spotify.com/album/3smvpv7CdrhVcGY...  \n",
       "1             1  https://open.spotify.com/album/7mRliFLzSnVPzjO...  \n",
       "2            16  https://open.spotify.com/album/3T4tUhGYeRNVUGe...  \n",
       "3            14  https://open.spotify.com/album/4eLPsYPBmXABThS...  \n",
       "4            17  https://open.spotify.com/album/4YtTX4GPvBvewbJ...  "
      ]
     },
     "execution_count": 63,
     "metadata": {},
     "output_type": "execute_result"
    }
   ],
   "source": [
    "album_df.head()"
   ]
  },
  {
   "cell_type": "code",
   "execution_count": 64,
   "metadata": {},
   "outputs": [
    {
     "name": "stdout",
     "output_type": "stream",
     "text": [
      "<class 'pandas.core.frame.DataFrame'>\n",
      "RangeIndex: 100 entries, 0 to 99\n",
      "Data columns (total 5 columns):\n",
      " #   Column        Non-Null Count  Dtype \n",
      "---  ------        --------------  ----- \n",
      " 0   album_id      100 non-null    object\n",
      " 1   name          100 non-null    object\n",
      " 2   release_date  100 non-null    object\n",
      " 3   total_tracks  100 non-null    int64 \n",
      " 4   url           100 non-null    object\n",
      "dtypes: int64(1), object(4)\n",
      "memory usage: 4.0+ KB\n"
     ]
    }
   ],
   "source": [
    "album_df.info()"
   ]
  },
  {
   "cell_type": "code",
   "execution_count": 66,
   "metadata": {},
   "outputs": [],
   "source": [
    "album_df=album_df.drop_duplicates(subset=['album_id'])"
   ]
  },
  {
   "cell_type": "code",
   "execution_count": 67,
   "metadata": {},
   "outputs": [],
   "source": [
    "artist_df=pd.DataFrame.from_dict(artist_list)"
   ]
  },
  {
   "cell_type": "code",
   "execution_count": 68,
   "metadata": {},
   "outputs": [
    {
     "data": {
      "text/html": [
       "<div>\n",
       "<style scoped>\n",
       "    .dataframe tbody tr th:only-of-type {\n",
       "        vertical-align: middle;\n",
       "    }\n",
       "\n",
       "    .dataframe tbody tr th {\n",
       "        vertical-align: top;\n",
       "    }\n",
       "\n",
       "    .dataframe thead th {\n",
       "        text-align: right;\n",
       "    }\n",
       "</style>\n",
       "<table border=\"1\" class=\"dataframe\">\n",
       "  <thead>\n",
       "    <tr style=\"text-align: right;\">\n",
       "      <th></th>\n",
       "      <th>artist_id</th>\n",
       "      <th>artist_name</th>\n",
       "      <th>external_url</th>\n",
       "    </tr>\n",
       "  </thead>\n",
       "  <tbody>\n",
       "    <tr>\n",
       "      <th>0</th>\n",
       "      <td>4V8Sr092TqfHkfAA5fXXqG</td>\n",
       "      <td>Luis Fonsi</td>\n",
       "      <td>https://api.spotify.com/v1/artists/4V8Sr092Tqf...</td>\n",
       "    </tr>\n",
       "    <tr>\n",
       "      <th>1</th>\n",
       "      <td>4VMYDCV2IEDYJArk749S6m</td>\n",
       "      <td>Daddy Yankee</td>\n",
       "      <td>https://api.spotify.com/v1/artists/4VMYDCV2IED...</td>\n",
       "    </tr>\n",
       "    <tr>\n",
       "      <th>2</th>\n",
       "      <td>1uNFoZAHBGtllmzznpCI3s</td>\n",
       "      <td>Justin Bieber</td>\n",
       "      <td>https://api.spotify.com/v1/artists/1uNFoZAHBGt...</td>\n",
       "    </tr>\n",
       "    <tr>\n",
       "      <th>3</th>\n",
       "      <td>0QHgL1lAIqAw0HtD7YldmP</td>\n",
       "      <td>DJ Khaled</td>\n",
       "      <td>https://api.spotify.com/v1/artists/0QHgL1lAIqA...</td>\n",
       "    </tr>\n",
       "    <tr>\n",
       "      <th>4</th>\n",
       "      <td>1uNFoZAHBGtllmzznpCI3s</td>\n",
       "      <td>Justin Bieber</td>\n",
       "      <td>https://api.spotify.com/v1/artists/1uNFoZAHBGt...</td>\n",
       "    </tr>\n",
       "  </tbody>\n",
       "</table>\n",
       "</div>"
      ],
      "text/plain": [
       "                artist_id    artist_name   \n",
       "0  4V8Sr092TqfHkfAA5fXXqG     Luis Fonsi  \\\n",
       "1  4VMYDCV2IEDYJArk749S6m   Daddy Yankee   \n",
       "2  1uNFoZAHBGtllmzznpCI3s  Justin Bieber   \n",
       "3  0QHgL1lAIqAw0HtD7YldmP      DJ Khaled   \n",
       "4  1uNFoZAHBGtllmzznpCI3s  Justin Bieber   \n",
       "\n",
       "                                        external_url  \n",
       "0  https://api.spotify.com/v1/artists/4V8Sr092Tqf...  \n",
       "1  https://api.spotify.com/v1/artists/4VMYDCV2IED...  \n",
       "2  https://api.spotify.com/v1/artists/1uNFoZAHBGt...  \n",
       "3  https://api.spotify.com/v1/artists/0QHgL1lAIqA...  \n",
       "4  https://api.spotify.com/v1/artists/1uNFoZAHBGt...  "
      ]
     },
     "execution_count": 68,
     "metadata": {},
     "output_type": "execute_result"
    }
   ],
   "source": [
    "artist_df.head()"
   ]
  },
  {
   "cell_type": "code",
   "execution_count": 69,
   "metadata": {},
   "outputs": [
    {
     "name": "stdout",
     "output_type": "stream",
     "text": [
      "<class 'pandas.core.frame.DataFrame'>\n",
      "RangeIndex: 171 entries, 0 to 170\n",
      "Data columns (total 3 columns):\n",
      " #   Column        Non-Null Count  Dtype \n",
      "---  ------        --------------  ----- \n",
      " 0   artist_id     171 non-null    object\n",
      " 1   artist_name   171 non-null    object\n",
      " 2   external_url  171 non-null    object\n",
      "dtypes: object(3)\n",
      "memory usage: 4.1+ KB\n"
     ]
    }
   ],
   "source": [
    "artist_df.info()"
   ]
  },
  {
   "cell_type": "code",
   "execution_count": 71,
   "metadata": {},
   "outputs": [],
   "source": [
    "artist_df=artist_df.drop_duplicates(subset=['artist_id'])"
   ]
  },
  {
   "cell_type": "code",
   "execution_count": 72,
   "metadata": {},
   "outputs": [],
   "source": [
    "song_df=pd.DataFrame.from_dict(song_list)"
   ]
  },
  {
   "cell_type": "code",
   "execution_count": 73,
   "metadata": {},
   "outputs": [
    {
     "data": {
      "text/html": [
       "<div>\n",
       "<style scoped>\n",
       "    .dataframe tbody tr th:only-of-type {\n",
       "        vertical-align: middle;\n",
       "    }\n",
       "\n",
       "    .dataframe tbody tr th {\n",
       "        vertical-align: top;\n",
       "    }\n",
       "\n",
       "    .dataframe thead th {\n",
       "        text-align: right;\n",
       "    }\n",
       "</style>\n",
       "<table border=\"1\" class=\"dataframe\">\n",
       "  <thead>\n",
       "    <tr style=\"text-align: right;\">\n",
       "      <th></th>\n",
       "      <th>song_id</th>\n",
       "      <th>song_name</th>\n",
       "      <th>duration_ms</th>\n",
       "      <th>url</th>\n",
       "      <th>popularity</th>\n",
       "      <th>song_added</th>\n",
       "      <th>album_id</th>\n",
       "      <th>artist_id</th>\n",
       "    </tr>\n",
       "  </thead>\n",
       "  <tbody>\n",
       "    <tr>\n",
       "      <th>0</th>\n",
       "      <td>5CtI0qwDJkDQGwXD1H1cLb</td>\n",
       "      <td>Despacito - Remix</td>\n",
       "      <td>228826</td>\n",
       "      <td>https://open.spotify.com/track/5CtI0qwDJkDQGwX...</td>\n",
       "      <td>0</td>\n",
       "      <td>2017-05-17T06:02:52Z</td>\n",
       "      <td>3smvpv7CdrhVcGYaNDLOqn</td>\n",
       "      <td>4V8Sr092TqfHkfAA5fXXqG</td>\n",
       "    </tr>\n",
       "    <tr>\n",
       "      <th>1</th>\n",
       "      <td>72Q0FQQo32KJloivv5xge2</td>\n",
       "      <td>I'm the One</td>\n",
       "      <td>288876</td>\n",
       "      <td>https://open.spotify.com/track/72Q0FQQo32KJloi...</td>\n",
       "      <td>0</td>\n",
       "      <td>2017-05-17T06:02:52Z</td>\n",
       "      <td>7mRliFLzSnVPzjO0sSy3ar</td>\n",
       "      <td>0QHgL1lAIqAw0HtD7YldmP</td>\n",
       "    </tr>\n",
       "    <tr>\n",
       "      <th>2</th>\n",
       "      <td>7qiZfU4dY1lWllzX7mPBI3</td>\n",
       "      <td>Shape of You</td>\n",
       "      <td>233712</td>\n",
       "      <td>https://open.spotify.com/track/7qiZfU4dY1lWllz...</td>\n",
       "      <td>87</td>\n",
       "      <td>2017-05-17T06:02:52Z</td>\n",
       "      <td>3T4tUhGYeRNVUGevb0wThu</td>\n",
       "      <td>6eUKZXaKkcviH0Ku9w2n3V</td>\n",
       "    </tr>\n",
       "    <tr>\n",
       "      <th>3</th>\n",
       "      <td>7KXjTSCq5nL1LoYtL7XAwS</td>\n",
       "      <td>HUMBLE.</td>\n",
       "      <td>177000</td>\n",
       "      <td>https://open.spotify.com/track/7KXjTSCq5nL1LoY...</td>\n",
       "      <td>86</td>\n",
       "      <td>2017-05-17T06:02:52Z</td>\n",
       "      <td>4eLPsYPBmXABThSJ821sqY</td>\n",
       "      <td>2YZyLoL8N0Wb9xBt1NhZWg</td>\n",
       "    </tr>\n",
       "    <tr>\n",
       "      <th>4</th>\n",
       "      <td>3rOSwuTsUlJp0Pu0MkN8r8</td>\n",
       "      <td>Mask Off</td>\n",
       "      <td>204600</td>\n",
       "      <td>https://open.spotify.com/track/3rOSwuTsUlJp0Pu...</td>\n",
       "      <td>48</td>\n",
       "      <td>2017-05-17T06:02:52Z</td>\n",
       "      <td>4YtTX4GPvBvewbJvBfXCS2</td>\n",
       "      <td>1RyvyyTE3xzB2ZywiAwp0i</td>\n",
       "    </tr>\n",
       "  </tbody>\n",
       "</table>\n",
       "</div>"
      ],
      "text/plain": [
       "                  song_id          song_name  duration_ms   \n",
       "0  5CtI0qwDJkDQGwXD1H1cLb  Despacito - Remix       228826  \\\n",
       "1  72Q0FQQo32KJloivv5xge2        I'm the One       288876   \n",
       "2  7qiZfU4dY1lWllzX7mPBI3       Shape of You       233712   \n",
       "3  7KXjTSCq5nL1LoYtL7XAwS            HUMBLE.       177000   \n",
       "4  3rOSwuTsUlJp0Pu0MkN8r8           Mask Off       204600   \n",
       "\n",
       "                                                 url  popularity   \n",
       "0  https://open.spotify.com/track/5CtI0qwDJkDQGwX...           0  \\\n",
       "1  https://open.spotify.com/track/72Q0FQQo32KJloi...           0   \n",
       "2  https://open.spotify.com/track/7qiZfU4dY1lWllz...          87   \n",
       "3  https://open.spotify.com/track/7KXjTSCq5nL1LoY...          86   \n",
       "4  https://open.spotify.com/track/3rOSwuTsUlJp0Pu...          48   \n",
       "\n",
       "             song_added                album_id               artist_id  \n",
       "0  2017-05-17T06:02:52Z  3smvpv7CdrhVcGYaNDLOqn  4V8Sr092TqfHkfAA5fXXqG  \n",
       "1  2017-05-17T06:02:52Z  7mRliFLzSnVPzjO0sSy3ar  0QHgL1lAIqAw0HtD7YldmP  \n",
       "2  2017-05-17T06:02:52Z  3T4tUhGYeRNVUGevb0wThu  6eUKZXaKkcviH0Ku9w2n3V  \n",
       "3  2017-05-17T06:02:52Z  4eLPsYPBmXABThSJ821sqY  2YZyLoL8N0Wb9xBt1NhZWg  \n",
       "4  2017-05-17T06:02:52Z  4YtTX4GPvBvewbJvBfXCS2  1RyvyyTE3xzB2ZywiAwp0i  "
      ]
     },
     "execution_count": 73,
     "metadata": {},
     "output_type": "execute_result"
    }
   ],
   "source": [
    "song_df.head()"
   ]
  },
  {
   "cell_type": "code",
   "execution_count": 74,
   "metadata": {},
   "outputs": [
    {
     "name": "stdout",
     "output_type": "stream",
     "text": [
      "<class 'pandas.core.frame.DataFrame'>\n",
      "RangeIndex: 100 entries, 0 to 99\n",
      "Data columns (total 8 columns):\n",
      " #   Column       Non-Null Count  Dtype \n",
      "---  ------       --------------  ----- \n",
      " 0   song_id      100 non-null    object\n",
      " 1   song_name    100 non-null    object\n",
      " 2   duration_ms  100 non-null    int64 \n",
      " 3   url          100 non-null    object\n",
      " 4   popularity   100 non-null    int64 \n",
      " 5   song_added   100 non-null    object\n",
      " 6   album_id     100 non-null    object\n",
      " 7   artist_id    100 non-null    object\n",
      "dtypes: int64(2), object(6)\n",
      "memory usage: 6.4+ KB\n"
     ]
    }
   ],
   "source": [
    "song_df.info()"
   ]
  },
  {
   "cell_type": "code",
   "execution_count": 75,
   "metadata": {},
   "outputs": [],
   "source": [
    "song_df=song_df.drop_duplicates(subset=['song_id'])"
   ]
  },
  {
   "cell_type": "code",
   "execution_count": 76,
   "metadata": {},
   "outputs": [
    {
     "data": {
      "text/html": [
       "<div>\n",
       "<style scoped>\n",
       "    .dataframe tbody tr th:only-of-type {\n",
       "        vertical-align: middle;\n",
       "    }\n",
       "\n",
       "    .dataframe tbody tr th {\n",
       "        vertical-align: top;\n",
       "    }\n",
       "\n",
       "    .dataframe thead th {\n",
       "        text-align: right;\n",
       "    }\n",
       "</style>\n",
       "<table border=\"1\" class=\"dataframe\">\n",
       "  <thead>\n",
       "    <tr style=\"text-align: right;\">\n",
       "      <th></th>\n",
       "      <th>artist_id</th>\n",
       "      <th>artist_name</th>\n",
       "      <th>external_url</th>\n",
       "    </tr>\n",
       "  </thead>\n",
       "  <tbody>\n",
       "    <tr>\n",
       "      <th>0</th>\n",
       "      <td>4V8Sr092TqfHkfAA5fXXqG</td>\n",
       "      <td>Luis Fonsi</td>\n",
       "      <td>https://api.spotify.com/v1/artists/4V8Sr092Tqf...</td>\n",
       "    </tr>\n",
       "    <tr>\n",
       "      <th>1</th>\n",
       "      <td>4VMYDCV2IEDYJArk749S6m</td>\n",
       "      <td>Daddy Yankee</td>\n",
       "      <td>https://api.spotify.com/v1/artists/4VMYDCV2IED...</td>\n",
       "    </tr>\n",
       "    <tr>\n",
       "      <th>2</th>\n",
       "      <td>1uNFoZAHBGtllmzznpCI3s</td>\n",
       "      <td>Justin Bieber</td>\n",
       "      <td>https://api.spotify.com/v1/artists/1uNFoZAHBGt...</td>\n",
       "    </tr>\n",
       "    <tr>\n",
       "      <th>3</th>\n",
       "      <td>0QHgL1lAIqAw0HtD7YldmP</td>\n",
       "      <td>DJ Khaled</td>\n",
       "      <td>https://api.spotify.com/v1/artists/0QHgL1lAIqA...</td>\n",
       "    </tr>\n",
       "    <tr>\n",
       "      <th>5</th>\n",
       "      <td>0VRj0yCOv2FXJNP47XQnx5</td>\n",
       "      <td>Quavo</td>\n",
       "      <td>https://api.spotify.com/v1/artists/0VRj0yCOv2F...</td>\n",
       "    </tr>\n",
       "    <tr>\n",
       "      <th>...</th>\n",
       "      <td>...</td>\n",
       "      <td>...</td>\n",
       "      <td>...</td>\n",
       "    </tr>\n",
       "    <tr>\n",
       "      <th>160</th>\n",
       "      <td>163tK9Wjr9P9DmM0AVK7lm</td>\n",
       "      <td>Lorde</td>\n",
       "      <td>https://api.spotify.com/v1/artists/163tK9Wjr9P...</td>\n",
       "    </tr>\n",
       "    <tr>\n",
       "      <th>164</th>\n",
       "      <td>2R21vXR83lH98kGeO99Y66</td>\n",
       "      <td>Anuel AA</td>\n",
       "      <td>https://api.spotify.com/v1/artists/2R21vXR83lH...</td>\n",
       "    </tr>\n",
       "    <tr>\n",
       "      <th>167</th>\n",
       "      <td>329e4yvIujISKGKz1BZZbO</td>\n",
       "      <td>Farruko</td>\n",
       "      <td>https://api.spotify.com/v1/artists/329e4yvIujI...</td>\n",
       "    </tr>\n",
       "    <tr>\n",
       "      <th>169</th>\n",
       "      <td>4u5smJBskI6Adzv08PuiUP</td>\n",
       "      <td>Kiiara</td>\n",
       "      <td>https://api.spotify.com/v1/artists/4u5smJBskI6...</td>\n",
       "    </tr>\n",
       "    <tr>\n",
       "      <th>170</th>\n",
       "      <td>1qskAseW7apRxJBpYAO9Yk</td>\n",
       "      <td>Felix Snow</td>\n",
       "      <td>https://api.spotify.com/v1/artists/1qskAseW7ap...</td>\n",
       "    </tr>\n",
       "  </tbody>\n",
       "</table>\n",
       "<p>113 rows × 3 columns</p>\n",
       "</div>"
      ],
      "text/plain": [
       "                  artist_id    artist_name   \n",
       "0    4V8Sr092TqfHkfAA5fXXqG     Luis Fonsi  \\\n",
       "1    4VMYDCV2IEDYJArk749S6m   Daddy Yankee   \n",
       "2    1uNFoZAHBGtllmzznpCI3s  Justin Bieber   \n",
       "3    0QHgL1lAIqAw0HtD7YldmP      DJ Khaled   \n",
       "5    0VRj0yCOv2FXJNP47XQnx5          Quavo   \n",
       "..                      ...            ...   \n",
       "160  163tK9Wjr9P9DmM0AVK7lm          Lorde   \n",
       "164  2R21vXR83lH98kGeO99Y66       Anuel AA   \n",
       "167  329e4yvIujISKGKz1BZZbO        Farruko   \n",
       "169  4u5smJBskI6Adzv08PuiUP         Kiiara   \n",
       "170  1qskAseW7apRxJBpYAO9Yk     Felix Snow   \n",
       "\n",
       "                                          external_url  \n",
       "0    https://api.spotify.com/v1/artists/4V8Sr092Tqf...  \n",
       "1    https://api.spotify.com/v1/artists/4VMYDCV2IED...  \n",
       "2    https://api.spotify.com/v1/artists/1uNFoZAHBGt...  \n",
       "3    https://api.spotify.com/v1/artists/0QHgL1lAIqA...  \n",
       "5    https://api.spotify.com/v1/artists/0VRj0yCOv2F...  \n",
       "..                                                 ...  \n",
       "160  https://api.spotify.com/v1/artists/163tK9Wjr9P...  \n",
       "164  https://api.spotify.com/v1/artists/2R21vXR83lH...  \n",
       "167  https://api.spotify.com/v1/artists/329e4yvIujI...  \n",
       "169  https://api.spotify.com/v1/artists/4u5smJBskI6...  \n",
       "170  https://api.spotify.com/v1/artists/1qskAseW7ap...  \n",
       "\n",
       "[113 rows x 3 columns]"
      ]
     },
     "execution_count": 76,
     "metadata": {},
     "output_type": "execute_result"
    }
   ],
   "source": [
    "artist_df"
   ]
  },
  {
   "cell_type": "code",
   "execution_count": 77,
   "metadata": {},
   "outputs": [
    {
     "data": {
      "text/html": [
       "<div>\n",
       "<style scoped>\n",
       "    .dataframe tbody tr th:only-of-type {\n",
       "        vertical-align: middle;\n",
       "    }\n",
       "\n",
       "    .dataframe tbody tr th {\n",
       "        vertical-align: top;\n",
       "    }\n",
       "\n",
       "    .dataframe thead th {\n",
       "        text-align: right;\n",
       "    }\n",
       "</style>\n",
       "<table border=\"1\" class=\"dataframe\">\n",
       "  <thead>\n",
       "    <tr style=\"text-align: right;\">\n",
       "      <th></th>\n",
       "      <th>song_id</th>\n",
       "      <th>song_name</th>\n",
       "      <th>duration_ms</th>\n",
       "      <th>url</th>\n",
       "      <th>popularity</th>\n",
       "      <th>song_added</th>\n",
       "      <th>album_id</th>\n",
       "      <th>artist_id</th>\n",
       "    </tr>\n",
       "  </thead>\n",
       "  <tbody>\n",
       "    <tr>\n",
       "      <th>0</th>\n",
       "      <td>5CtI0qwDJkDQGwXD1H1cLb</td>\n",
       "      <td>Despacito - Remix</td>\n",
       "      <td>228826</td>\n",
       "      <td>https://open.spotify.com/track/5CtI0qwDJkDQGwX...</td>\n",
       "      <td>0</td>\n",
       "      <td>2017-05-17T06:02:52Z</td>\n",
       "      <td>3smvpv7CdrhVcGYaNDLOqn</td>\n",
       "      <td>4V8Sr092TqfHkfAA5fXXqG</td>\n",
       "    </tr>\n",
       "    <tr>\n",
       "      <th>1</th>\n",
       "      <td>72Q0FQQo32KJloivv5xge2</td>\n",
       "      <td>I'm the One</td>\n",
       "      <td>288876</td>\n",
       "      <td>https://open.spotify.com/track/72Q0FQQo32KJloi...</td>\n",
       "      <td>0</td>\n",
       "      <td>2017-05-17T06:02:52Z</td>\n",
       "      <td>7mRliFLzSnVPzjO0sSy3ar</td>\n",
       "      <td>0QHgL1lAIqAw0HtD7YldmP</td>\n",
       "    </tr>\n",
       "    <tr>\n",
       "      <th>2</th>\n",
       "      <td>7qiZfU4dY1lWllzX7mPBI3</td>\n",
       "      <td>Shape of You</td>\n",
       "      <td>233712</td>\n",
       "      <td>https://open.spotify.com/track/7qiZfU4dY1lWllz...</td>\n",
       "      <td>87</td>\n",
       "      <td>2017-05-17T06:02:52Z</td>\n",
       "      <td>3T4tUhGYeRNVUGevb0wThu</td>\n",
       "      <td>6eUKZXaKkcviH0Ku9w2n3V</td>\n",
       "    </tr>\n",
       "    <tr>\n",
       "      <th>3</th>\n",
       "      <td>7KXjTSCq5nL1LoYtL7XAwS</td>\n",
       "      <td>HUMBLE.</td>\n",
       "      <td>177000</td>\n",
       "      <td>https://open.spotify.com/track/7KXjTSCq5nL1LoY...</td>\n",
       "      <td>86</td>\n",
       "      <td>2017-05-17T06:02:52Z</td>\n",
       "      <td>4eLPsYPBmXABThSJ821sqY</td>\n",
       "      <td>2YZyLoL8N0Wb9xBt1NhZWg</td>\n",
       "    </tr>\n",
       "    <tr>\n",
       "      <th>4</th>\n",
       "      <td>3rOSwuTsUlJp0Pu0MkN8r8</td>\n",
       "      <td>Mask Off</td>\n",
       "      <td>204600</td>\n",
       "      <td>https://open.spotify.com/track/3rOSwuTsUlJp0Pu...</td>\n",
       "      <td>48</td>\n",
       "      <td>2017-05-17T06:02:52Z</td>\n",
       "      <td>4YtTX4GPvBvewbJvBfXCS2</td>\n",
       "      <td>1RyvyyTE3xzB2ZywiAwp0i</td>\n",
       "    </tr>\n",
       "    <tr>\n",
       "      <th>...</th>\n",
       "      <td>...</td>\n",
       "      <td>...</td>\n",
       "      <td>...</td>\n",
       "      <td>...</td>\n",
       "      <td>...</td>\n",
       "      <td>...</td>\n",
       "      <td>...</td>\n",
       "      <td>...</td>\n",
       "    </tr>\n",
       "    <tr>\n",
       "      <th>95</th>\n",
       "      <td>6b8Be6ljOzmkOmFslEb23P</td>\n",
       "      <td>24K Magic</td>\n",
       "      <td>225983</td>\n",
       "      <td>https://open.spotify.com/track/6b8Be6ljOzmkOmF...</td>\n",
       "      <td>81</td>\n",
       "      <td>2017-05-17T06:02:52Z</td>\n",
       "      <td>4PgleR09JVnm3zY1fW3XBA</td>\n",
       "      <td>0du5cEVh5yTK9QJze8zA0C</td>\n",
       "    </tr>\n",
       "    <tr>\n",
       "      <th>96</th>\n",
       "      <td>0Szp49tpFasIjX04Mcsydp</td>\n",
       "      <td>Tu Foto</td>\n",
       "      <td>193117</td>\n",
       "      <td>https://open.spotify.com/track/0Szp49tpFasIjX0...</td>\n",
       "      <td>0</td>\n",
       "      <td>2017-05-17T06:02:52Z</td>\n",
       "      <td>3NzslyWsrSJXTNNZbQMBWS</td>\n",
       "      <td>1i8SpTcr7yvPOmcqrbnVXY</td>\n",
       "    </tr>\n",
       "    <tr>\n",
       "      <th>97</th>\n",
       "      <td>7KOlJ92bu51cltsD9KU5I7</td>\n",
       "      <td>T-Shirt</td>\n",
       "      <td>242407</td>\n",
       "      <td>https://open.spotify.com/track/7KOlJ92bu51clts...</td>\n",
       "      <td>1</td>\n",
       "      <td>2017-05-17T06:02:52Z</td>\n",
       "      <td>2AvupjUeMnSffKEV05x222</td>\n",
       "      <td>6oMuImdp5ZcFhWP0ESe6mG</td>\n",
       "    </tr>\n",
       "    <tr>\n",
       "      <th>98</th>\n",
       "      <td>5q2JbCNi4FcnglgPfxcV65</td>\n",
       "      <td>Sola (Remix)</td>\n",
       "      <td>307910</td>\n",
       "      <td>https://open.spotify.com/track/5q2JbCNi4Fcnglg...</td>\n",
       "      <td>77</td>\n",
       "      <td>2017-05-17T06:02:52Z</td>\n",
       "      <td>2ucmNNr2Y9ZI7fP4oAMdIj</td>\n",
       "      <td>2R21vXR83lH98kGeO99Y66</td>\n",
       "    </tr>\n",
       "    <tr>\n",
       "      <th>99</th>\n",
       "      <td>3QWjljChcOMkRDYSzF33Qr</td>\n",
       "      <td>Whippin (feat. Felix Snow)</td>\n",
       "      <td>160596</td>\n",
       "      <td>https://open.spotify.com/track/3QWjljChcOMkRDY...</td>\n",
       "      <td>46</td>\n",
       "      <td>2017-05-17T06:02:52Z</td>\n",
       "      <td>5PK9tQ7Ou1AvIww8zRn3SL</td>\n",
       "      <td>4u5smJBskI6Adzv08PuiUP</td>\n",
       "    </tr>\n",
       "  </tbody>\n",
       "</table>\n",
       "<p>100 rows × 8 columns</p>\n",
       "</div>"
      ],
      "text/plain": [
       "                   song_id                   song_name  duration_ms   \n",
       "0   5CtI0qwDJkDQGwXD1H1cLb           Despacito - Remix       228826  \\\n",
       "1   72Q0FQQo32KJloivv5xge2                 I'm the One       288876   \n",
       "2   7qiZfU4dY1lWllzX7mPBI3                Shape of You       233712   \n",
       "3   7KXjTSCq5nL1LoYtL7XAwS                     HUMBLE.       177000   \n",
       "4   3rOSwuTsUlJp0Pu0MkN8r8                    Mask Off       204600   \n",
       "..                     ...                         ...          ...   \n",
       "95  6b8Be6ljOzmkOmFslEb23P                   24K Magic       225983   \n",
       "96  0Szp49tpFasIjX04Mcsydp                     Tu Foto       193117   \n",
       "97  7KOlJ92bu51cltsD9KU5I7                     T-Shirt       242407   \n",
       "98  5q2JbCNi4FcnglgPfxcV65                Sola (Remix)       307910   \n",
       "99  3QWjljChcOMkRDYSzF33Qr  Whippin (feat. Felix Snow)       160596   \n",
       "\n",
       "                                                  url  popularity   \n",
       "0   https://open.spotify.com/track/5CtI0qwDJkDQGwX...           0  \\\n",
       "1   https://open.spotify.com/track/72Q0FQQo32KJloi...           0   \n",
       "2   https://open.spotify.com/track/7qiZfU4dY1lWllz...          87   \n",
       "3   https://open.spotify.com/track/7KXjTSCq5nL1LoY...          86   \n",
       "4   https://open.spotify.com/track/3rOSwuTsUlJp0Pu...          48   \n",
       "..                                                ...         ...   \n",
       "95  https://open.spotify.com/track/6b8Be6ljOzmkOmF...          81   \n",
       "96  https://open.spotify.com/track/0Szp49tpFasIjX0...           0   \n",
       "97  https://open.spotify.com/track/7KOlJ92bu51clts...           1   \n",
       "98  https://open.spotify.com/track/5q2JbCNi4Fcnglg...          77   \n",
       "99  https://open.spotify.com/track/3QWjljChcOMkRDY...          46   \n",
       "\n",
       "              song_added                album_id               artist_id  \n",
       "0   2017-05-17T06:02:52Z  3smvpv7CdrhVcGYaNDLOqn  4V8Sr092TqfHkfAA5fXXqG  \n",
       "1   2017-05-17T06:02:52Z  7mRliFLzSnVPzjO0sSy3ar  0QHgL1lAIqAw0HtD7YldmP  \n",
       "2   2017-05-17T06:02:52Z  3T4tUhGYeRNVUGevb0wThu  6eUKZXaKkcviH0Ku9w2n3V  \n",
       "3   2017-05-17T06:02:52Z  4eLPsYPBmXABThSJ821sqY  2YZyLoL8N0Wb9xBt1NhZWg  \n",
       "4   2017-05-17T06:02:52Z  4YtTX4GPvBvewbJvBfXCS2  1RyvyyTE3xzB2ZywiAwp0i  \n",
       "..                   ...                     ...                     ...  \n",
       "95  2017-05-17T06:02:52Z  4PgleR09JVnm3zY1fW3XBA  0du5cEVh5yTK9QJze8zA0C  \n",
       "96  2017-05-17T06:02:52Z  3NzslyWsrSJXTNNZbQMBWS  1i8SpTcr7yvPOmcqrbnVXY  \n",
       "97  2017-05-17T06:02:52Z  2AvupjUeMnSffKEV05x222  6oMuImdp5ZcFhWP0ESe6mG  \n",
       "98  2017-05-17T06:02:52Z  2ucmNNr2Y9ZI7fP4oAMdIj  2R21vXR83lH98kGeO99Y66  \n",
       "99  2017-05-17T06:02:52Z  5PK9tQ7Ou1AvIww8zRn3SL  4u5smJBskI6Adzv08PuiUP  \n",
       "\n",
       "[100 rows x 8 columns]"
      ]
     },
     "execution_count": 77,
     "metadata": {},
     "output_type": "execute_result"
    }
   ],
   "source": [
    "song_df"
   ]
  },
  {
   "cell_type": "code",
   "execution_count": 78,
   "metadata": {},
   "outputs": [
    {
     "data": {
      "text/html": [
       "<div>\n",
       "<style scoped>\n",
       "    .dataframe tbody tr th:only-of-type {\n",
       "        vertical-align: middle;\n",
       "    }\n",
       "\n",
       "    .dataframe tbody tr th {\n",
       "        vertical-align: top;\n",
       "    }\n",
       "\n",
       "    .dataframe thead th {\n",
       "        text-align: right;\n",
       "    }\n",
       "</style>\n",
       "<table border=\"1\" class=\"dataframe\">\n",
       "  <thead>\n",
       "    <tr style=\"text-align: right;\">\n",
       "      <th></th>\n",
       "      <th>album_id</th>\n",
       "      <th>name</th>\n",
       "      <th>release_date</th>\n",
       "      <th>total_tracks</th>\n",
       "      <th>url</th>\n",
       "    </tr>\n",
       "  </thead>\n",
       "  <tbody>\n",
       "    <tr>\n",
       "      <th>0</th>\n",
       "      <td>3smvpv7CdrhVcGYaNDLOqn</td>\n",
       "      <td>Despacito Feat. Justin Bieber (Remix)</td>\n",
       "      <td>2017-04-17</td>\n",
       "      <td>1</td>\n",
       "      <td>https://open.spotify.com/album/3smvpv7CdrhVcGY...</td>\n",
       "    </tr>\n",
       "    <tr>\n",
       "      <th>1</th>\n",
       "      <td>7mRliFLzSnVPzjO0sSy3ar</td>\n",
       "      <td>I'm the One</td>\n",
       "      <td>2017-04-27</td>\n",
       "      <td>1</td>\n",
       "      <td>https://open.spotify.com/album/7mRliFLzSnVPzjO...</td>\n",
       "    </tr>\n",
       "    <tr>\n",
       "      <th>2</th>\n",
       "      <td>3T4tUhGYeRNVUGevb0wThu</td>\n",
       "      <td>÷ (Deluxe)</td>\n",
       "      <td>2017-03-03</td>\n",
       "      <td>16</td>\n",
       "      <td>https://open.spotify.com/album/3T4tUhGYeRNVUGe...</td>\n",
       "    </tr>\n",
       "    <tr>\n",
       "      <th>3</th>\n",
       "      <td>4eLPsYPBmXABThSJ821sqY</td>\n",
       "      <td>DAMN.</td>\n",
       "      <td>2017-04-14</td>\n",
       "      <td>14</td>\n",
       "      <td>https://open.spotify.com/album/4eLPsYPBmXABThS...</td>\n",
       "    </tr>\n",
       "    <tr>\n",
       "      <th>4</th>\n",
       "      <td>4YtTX4GPvBvewbJvBfXCS2</td>\n",
       "      <td>FUTURE</td>\n",
       "      <td>2017-08-04</td>\n",
       "      <td>17</td>\n",
       "      <td>https://open.spotify.com/album/4YtTX4GPvBvewbJ...</td>\n",
       "    </tr>\n",
       "    <tr>\n",
       "      <th>...</th>\n",
       "      <td>...</td>\n",
       "      <td>...</td>\n",
       "      <td>...</td>\n",
       "      <td>...</td>\n",
       "      <td>...</td>\n",
       "    </tr>\n",
       "    <tr>\n",
       "      <th>93</th>\n",
       "      <td>4xnq1L6P551Qcb9gBXNMK7</td>\n",
       "      <td>\"Awaken, My Love!\"</td>\n",
       "      <td>2016-12-02</td>\n",
       "      <td>11</td>\n",
       "      <td>https://open.spotify.com/album/4xnq1L6P551Qcb9...</td>\n",
       "    </tr>\n",
       "    <tr>\n",
       "      <th>94</th>\n",
       "      <td>3Jvd3wjRENrLxPgUxQ5Exz</td>\n",
       "      <td>Green Light</td>\n",
       "      <td>2017-03-02</td>\n",
       "      <td>1</td>\n",
       "      <td>https://open.spotify.com/album/3Jvd3wjRENrLxPg...</td>\n",
       "    </tr>\n",
       "    <tr>\n",
       "      <th>96</th>\n",
       "      <td>3NzslyWsrSJXTNNZbQMBWS</td>\n",
       "      <td>Tu Foto</td>\n",
       "      <td>2017-04-27</td>\n",
       "      <td>1</td>\n",
       "      <td>https://open.spotify.com/album/3NzslyWsrSJXTNN...</td>\n",
       "    </tr>\n",
       "    <tr>\n",
       "      <th>98</th>\n",
       "      <td>2ucmNNr2Y9ZI7fP4oAMdIj</td>\n",
       "      <td>Sola (Remix)</td>\n",
       "      <td>2016-12-01</td>\n",
       "      <td>1</td>\n",
       "      <td>https://open.spotify.com/album/2ucmNNr2Y9ZI7fP...</td>\n",
       "    </tr>\n",
       "    <tr>\n",
       "      <th>99</th>\n",
       "      <td>5PK9tQ7Ou1AvIww8zRn3SL</td>\n",
       "      <td>Whippin (feat. Felix Snow)</td>\n",
       "      <td>2017-04-12</td>\n",
       "      <td>1</td>\n",
       "      <td>https://open.spotify.com/album/5PK9tQ7Ou1AvIww...</td>\n",
       "    </tr>\n",
       "  </tbody>\n",
       "</table>\n",
       "<p>86 rows × 5 columns</p>\n",
       "</div>"
      ],
      "text/plain": [
       "                  album_id                                   name   \n",
       "0   3smvpv7CdrhVcGYaNDLOqn  Despacito Feat. Justin Bieber (Remix)  \\\n",
       "1   7mRliFLzSnVPzjO0sSy3ar                            I'm the One   \n",
       "2   3T4tUhGYeRNVUGevb0wThu                             ÷ (Deluxe)   \n",
       "3   4eLPsYPBmXABThSJ821sqY                                  DAMN.   \n",
       "4   4YtTX4GPvBvewbJvBfXCS2                                 FUTURE   \n",
       "..                     ...                                    ...   \n",
       "93  4xnq1L6P551Qcb9gBXNMK7                     \"Awaken, My Love!\"   \n",
       "94  3Jvd3wjRENrLxPgUxQ5Exz                            Green Light   \n",
       "96  3NzslyWsrSJXTNNZbQMBWS                                Tu Foto   \n",
       "98  2ucmNNr2Y9ZI7fP4oAMdIj                           Sola (Remix)   \n",
       "99  5PK9tQ7Ou1AvIww8zRn3SL             Whippin (feat. Felix Snow)   \n",
       "\n",
       "   release_date  total_tracks   \n",
       "0    2017-04-17             1  \\\n",
       "1    2017-04-27             1   \n",
       "2    2017-03-03            16   \n",
       "3    2017-04-14            14   \n",
       "4    2017-08-04            17   \n",
       "..          ...           ...   \n",
       "93   2016-12-02            11   \n",
       "94   2017-03-02             1   \n",
       "96   2017-04-27             1   \n",
       "98   2016-12-01             1   \n",
       "99   2017-04-12             1   \n",
       "\n",
       "                                                  url  \n",
       "0   https://open.spotify.com/album/3smvpv7CdrhVcGY...  \n",
       "1   https://open.spotify.com/album/7mRliFLzSnVPzjO...  \n",
       "2   https://open.spotify.com/album/3T4tUhGYeRNVUGe...  \n",
       "3   https://open.spotify.com/album/4eLPsYPBmXABThS...  \n",
       "4   https://open.spotify.com/album/4YtTX4GPvBvewbJ...  \n",
       "..                                                ...  \n",
       "93  https://open.spotify.com/album/4xnq1L6P551Qcb9...  \n",
       "94  https://open.spotify.com/album/3Jvd3wjRENrLxPg...  \n",
       "96  https://open.spotify.com/album/3NzslyWsrSJXTNN...  \n",
       "98  https://open.spotify.com/album/2ucmNNr2Y9ZI7fP...  \n",
       "99  https://open.spotify.com/album/5PK9tQ7Ou1AvIww...  \n",
       "\n",
       "[86 rows x 5 columns]"
      ]
     },
     "execution_count": 78,
     "metadata": {},
     "output_type": "execute_result"
    }
   ],
   "source": [
    "album_df"
   ]
  },
  {
   "cell_type": "code",
   "execution_count": 80,
   "metadata": {},
   "outputs": [],
   "source": [
    "song_df['song_added'] = pd.to_datetime(song_df['song_added'])"
   ]
  },
  {
   "cell_type": "code",
   "execution_count": 81,
   "metadata": {},
   "outputs": [
    {
     "data": {
      "text/html": [
       "<div>\n",
       "<style scoped>\n",
       "    .dataframe tbody tr th:only-of-type {\n",
       "        vertical-align: middle;\n",
       "    }\n",
       "\n",
       "    .dataframe tbody tr th {\n",
       "        vertical-align: top;\n",
       "    }\n",
       "\n",
       "    .dataframe thead th {\n",
       "        text-align: right;\n",
       "    }\n",
       "</style>\n",
       "<table border=\"1\" class=\"dataframe\">\n",
       "  <thead>\n",
       "    <tr style=\"text-align: right;\">\n",
       "      <th></th>\n",
       "      <th>song_id</th>\n",
       "      <th>song_name</th>\n",
       "      <th>duration_ms</th>\n",
       "      <th>url</th>\n",
       "      <th>popularity</th>\n",
       "      <th>song_added</th>\n",
       "      <th>album_id</th>\n",
       "      <th>artist_id</th>\n",
       "    </tr>\n",
       "  </thead>\n",
       "  <tbody>\n",
       "    <tr>\n",
       "      <th>0</th>\n",
       "      <td>5CtI0qwDJkDQGwXD1H1cLb</td>\n",
       "      <td>Despacito - Remix</td>\n",
       "      <td>228826</td>\n",
       "      <td>https://open.spotify.com/track/5CtI0qwDJkDQGwX...</td>\n",
       "      <td>0</td>\n",
       "      <td>2017-05-17 06:02:52+00:00</td>\n",
       "      <td>3smvpv7CdrhVcGYaNDLOqn</td>\n",
       "      <td>4V8Sr092TqfHkfAA5fXXqG</td>\n",
       "    </tr>\n",
       "    <tr>\n",
       "      <th>1</th>\n",
       "      <td>72Q0FQQo32KJloivv5xge2</td>\n",
       "      <td>I'm the One</td>\n",
       "      <td>288876</td>\n",
       "      <td>https://open.spotify.com/track/72Q0FQQo32KJloi...</td>\n",
       "      <td>0</td>\n",
       "      <td>2017-05-17 06:02:52+00:00</td>\n",
       "      <td>7mRliFLzSnVPzjO0sSy3ar</td>\n",
       "      <td>0QHgL1lAIqAw0HtD7YldmP</td>\n",
       "    </tr>\n",
       "    <tr>\n",
       "      <th>2</th>\n",
       "      <td>7qiZfU4dY1lWllzX7mPBI3</td>\n",
       "      <td>Shape of You</td>\n",
       "      <td>233712</td>\n",
       "      <td>https://open.spotify.com/track/7qiZfU4dY1lWllz...</td>\n",
       "      <td>87</td>\n",
       "      <td>2017-05-17 06:02:52+00:00</td>\n",
       "      <td>3T4tUhGYeRNVUGevb0wThu</td>\n",
       "      <td>6eUKZXaKkcviH0Ku9w2n3V</td>\n",
       "    </tr>\n",
       "    <tr>\n",
       "      <th>3</th>\n",
       "      <td>7KXjTSCq5nL1LoYtL7XAwS</td>\n",
       "      <td>HUMBLE.</td>\n",
       "      <td>177000</td>\n",
       "      <td>https://open.spotify.com/track/7KXjTSCq5nL1LoY...</td>\n",
       "      <td>86</td>\n",
       "      <td>2017-05-17 06:02:52+00:00</td>\n",
       "      <td>4eLPsYPBmXABThSJ821sqY</td>\n",
       "      <td>2YZyLoL8N0Wb9xBt1NhZWg</td>\n",
       "    </tr>\n",
       "    <tr>\n",
       "      <th>4</th>\n",
       "      <td>3rOSwuTsUlJp0Pu0MkN8r8</td>\n",
       "      <td>Mask Off</td>\n",
       "      <td>204600</td>\n",
       "      <td>https://open.spotify.com/track/3rOSwuTsUlJp0Pu...</td>\n",
       "      <td>48</td>\n",
       "      <td>2017-05-17 06:02:52+00:00</td>\n",
       "      <td>4YtTX4GPvBvewbJvBfXCS2</td>\n",
       "      <td>1RyvyyTE3xzB2ZywiAwp0i</td>\n",
       "    </tr>\n",
       "  </tbody>\n",
       "</table>\n",
       "</div>"
      ],
      "text/plain": [
       "                  song_id          song_name  duration_ms   \n",
       "0  5CtI0qwDJkDQGwXD1H1cLb  Despacito - Remix       228826  \\\n",
       "1  72Q0FQQo32KJloivv5xge2        I'm the One       288876   \n",
       "2  7qiZfU4dY1lWllzX7mPBI3       Shape of You       233712   \n",
       "3  7KXjTSCq5nL1LoYtL7XAwS            HUMBLE.       177000   \n",
       "4  3rOSwuTsUlJp0Pu0MkN8r8           Mask Off       204600   \n",
       "\n",
       "                                                 url  popularity   \n",
       "0  https://open.spotify.com/track/5CtI0qwDJkDQGwX...           0  \\\n",
       "1  https://open.spotify.com/track/72Q0FQQo32KJloi...           0   \n",
       "2  https://open.spotify.com/track/7qiZfU4dY1lWllz...          87   \n",
       "3  https://open.spotify.com/track/7KXjTSCq5nL1LoY...          86   \n",
       "4  https://open.spotify.com/track/3rOSwuTsUlJp0Pu...          48   \n",
       "\n",
       "                 song_added                album_id               artist_id  \n",
       "0 2017-05-17 06:02:52+00:00  3smvpv7CdrhVcGYaNDLOqn  4V8Sr092TqfHkfAA5fXXqG  \n",
       "1 2017-05-17 06:02:52+00:00  7mRliFLzSnVPzjO0sSy3ar  0QHgL1lAIqAw0HtD7YldmP  \n",
       "2 2017-05-17 06:02:52+00:00  3T4tUhGYeRNVUGevb0wThu  6eUKZXaKkcviH0Ku9w2n3V  \n",
       "3 2017-05-17 06:02:52+00:00  4eLPsYPBmXABThSJ821sqY  2YZyLoL8N0Wb9xBt1NhZWg  \n",
       "4 2017-05-17 06:02:52+00:00  4YtTX4GPvBvewbJvBfXCS2  1RyvyyTE3xzB2ZywiAwp0i  "
      ]
     },
     "execution_count": 81,
     "metadata": {},
     "output_type": "execute_result"
    }
   ],
   "source": [
    "song_df.head()"
   ]
  },
  {
   "cell_type": "code",
   "execution_count": null,
   "metadata": {},
   "outputs": [],
   "source": []
  }
 ],
 "metadata": {
  "kernelspec": {
   "display_name": "Python 3",
   "language": "python",
   "name": "python3"
  },
  "language_info": {
   "codemirror_mode": {
    "name": "ipython",
    "version": 3
   },
   "file_extension": ".py",
   "mimetype": "text/x-python",
   "name": "python",
   "nbconvert_exporter": "python",
   "pygments_lexer": "ipython3",
   "version": "3.10.6"
  }
 },
 "nbformat": 4,
 "nbformat_minor": 2
}
